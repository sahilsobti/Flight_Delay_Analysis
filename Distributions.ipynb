{
 "cells": [
  {
   "cell_type": "code",
   "execution_count": 1,
   "metadata": {},
   "outputs": [],
   "source": [
    "import pandas as pd\n",
    "import numpy as np\n",
    "import matplotlib.pyplot as plt\n",
    "import pickle as pickle\n",
    "import datetime\n",
    "import seaborn as sns\n",
    "from scipy.stats import ks_2samp\n",
    "from sklearn.preprocessing import MinMaxScaler\n",
    "from scipy import stats\n",
    "from mlxtend.evaluate import permutation_test"
   ]
  },
  {
   "cell_type": "code",
   "execution_count": 6,
   "metadata": {},
   "outputs": [],
   "source": [
    "def getCity(x):\n",
    "    return x[0]\n",
    "def setTime(x):\n",
    "    val = x\n",
    "    if len(x) == 4:\n",
    "        pass\n",
    "    elif len(x) == 3:\n",
    "        val = '0' + val\n",
    "    elif len(x) == 2:\n",
    "        val = '00' + val\n",
    "    elif len(x) == 1:\n",
    "        val = '000'+ val\n",
    "    val = val[:2]+':'+val[:-2]\n",
    "    return val\n",
    "\n",
    "def set_new_sleep(x):\n",
    "    return x[:2]+ ':' + x[:-2]"
   ]
  },
  {
   "cell_type": "markdown",
   "metadata": {},
   "source": [
    "### Topic 3. Distributions\n"
   ]
  },
  {
   "cell_type": "markdown",
   "metadata": {},
   "source": [
    "### Hypothesis 1 : In winter months, different airlines have similar weather delay  distribution (KS Test)"
   ]
  },
  {
   "cell_type": "code",
   "execution_count": 2,
   "metadata": {},
   "outputs": [
    {
     "data": {
      "text/html": [
       "<div>\n",
       "<style scoped>\n",
       "    .dataframe tbody tr th:only-of-type {\n",
       "        vertical-align: middle;\n",
       "    }\n",
       "\n",
       "    .dataframe tbody tr th {\n",
       "        vertical-align: top;\n",
       "    }\n",
       "\n",
       "    .dataframe thead th {\n",
       "        text-align: right;\n",
       "    }\n",
       "</style>\n",
       "<table border=\"1\" class=\"dataframe\">\n",
       "  <thead>\n",
       "    <tr style=\"text-align: right;\">\n",
       "      <th></th>\n",
       "      <th>YEAR</th>\n",
       "      <th>MONTH</th>\n",
       "      <th>DAY_OF_MONTH</th>\n",
       "      <th>FL_DATE</th>\n",
       "      <th>CARRIER</th>\n",
       "      <th>FL_NUM</th>\n",
       "      <th>ORIGIN</th>\n",
       "      <th>ORIGIN_CITY_NAME</th>\n",
       "      <th>ORIGIN_STATE_NM</th>\n",
       "      <th>DEST</th>\n",
       "      <th>...</th>\n",
       "      <th>ACTUAL_ELAPSED_TIME</th>\n",
       "      <th>AIR_TIME</th>\n",
       "      <th>FLIGHTS</th>\n",
       "      <th>DISTANCE</th>\n",
       "      <th>CARRIER_DELAY</th>\n",
       "      <th>WEATHER_DELAY</th>\n",
       "      <th>NAS_DELAY</th>\n",
       "      <th>SECURITY_DELAY</th>\n",
       "      <th>LATE_AIRCRAFT_DELAY</th>\n",
       "      <th>CARRIER_NAME</th>\n",
       "    </tr>\n",
       "  </thead>\n",
       "  <tbody>\n",
       "    <tr>\n",
       "      <th>0</th>\n",
       "      <td>2017</td>\n",
       "      <td>1</td>\n",
       "      <td>2</td>\n",
       "      <td>1/2/17</td>\n",
       "      <td>AA</td>\n",
       "      <td>1767</td>\n",
       "      <td>LAS</td>\n",
       "      <td>Las Vegas, NV</td>\n",
       "      <td>Nevada</td>\n",
       "      <td>DFW</td>\n",
       "      <td>...</td>\n",
       "      <td>155</td>\n",
       "      <td>121</td>\n",
       "      <td>1</td>\n",
       "      <td>1055</td>\n",
       "      <td>0</td>\n",
       "      <td>0</td>\n",
       "      <td>0</td>\n",
       "      <td>0</td>\n",
       "      <td>26</td>\n",
       "      <td>American Airlines</td>\n",
       "    </tr>\n",
       "    <tr>\n",
       "      <th>1</th>\n",
       "      <td>2017</td>\n",
       "      <td>1</td>\n",
       "      <td>4</td>\n",
       "      <td>1/4/17</td>\n",
       "      <td>AA</td>\n",
       "      <td>1767</td>\n",
       "      <td>LAS</td>\n",
       "      <td>Las Vegas, NV</td>\n",
       "      <td>Nevada</td>\n",
       "      <td>DFW</td>\n",
       "      <td>...</td>\n",
       "      <td>152</td>\n",
       "      <td>114</td>\n",
       "      <td>1</td>\n",
       "      <td>1055</td>\n",
       "      <td>0</td>\n",
       "      <td>0</td>\n",
       "      <td>0</td>\n",
       "      <td>0</td>\n",
       "      <td>42</td>\n",
       "      <td>American Airlines</td>\n",
       "    </tr>\n",
       "    <tr>\n",
       "      <th>2</th>\n",
       "      <td>2017</td>\n",
       "      <td>1</td>\n",
       "      <td>6</td>\n",
       "      <td>1/6/17</td>\n",
       "      <td>AA</td>\n",
       "      <td>1767</td>\n",
       "      <td>LAS</td>\n",
       "      <td>Las Vegas, NV</td>\n",
       "      <td>Nevada</td>\n",
       "      <td>DFW</td>\n",
       "      <td>...</td>\n",
       "      <td>170</td>\n",
       "      <td>123</td>\n",
       "      <td>1</td>\n",
       "      <td>1055</td>\n",
       "      <td>62</td>\n",
       "      <td>0</td>\n",
       "      <td>7</td>\n",
       "      <td>0</td>\n",
       "      <td>0</td>\n",
       "      <td>American Airlines</td>\n",
       "    </tr>\n",
       "    <tr>\n",
       "      <th>3</th>\n",
       "      <td>2017</td>\n",
       "      <td>1</td>\n",
       "      <td>16</td>\n",
       "      <td>1/16/17</td>\n",
       "      <td>AA</td>\n",
       "      <td>1767</td>\n",
       "      <td>LAS</td>\n",
       "      <td>Las Vegas, NV</td>\n",
       "      <td>Nevada</td>\n",
       "      <td>DFW</td>\n",
       "      <td>...</td>\n",
       "      <td>0</td>\n",
       "      <td>0</td>\n",
       "      <td>1</td>\n",
       "      <td>1055</td>\n",
       "      <td>0</td>\n",
       "      <td>0</td>\n",
       "      <td>0</td>\n",
       "      <td>0</td>\n",
       "      <td>0</td>\n",
       "      <td>American Airlines</td>\n",
       "    </tr>\n",
       "    <tr>\n",
       "      <th>4</th>\n",
       "      <td>2017</td>\n",
       "      <td>1</td>\n",
       "      <td>24</td>\n",
       "      <td>1/24/17</td>\n",
       "      <td>AA</td>\n",
       "      <td>1767</td>\n",
       "      <td>LAS</td>\n",
       "      <td>Las Vegas, NV</td>\n",
       "      <td>Nevada</td>\n",
       "      <td>DFW</td>\n",
       "      <td>...</td>\n",
       "      <td>182</td>\n",
       "      <td>121</td>\n",
       "      <td>1</td>\n",
       "      <td>1055</td>\n",
       "      <td>0</td>\n",
       "      <td>0</td>\n",
       "      <td>15</td>\n",
       "      <td>0</td>\n",
       "      <td>0</td>\n",
       "      <td>American Airlines</td>\n",
       "    </tr>\n",
       "  </tbody>\n",
       "</table>\n",
       "<p>5 rows × 28 columns</p>\n",
       "</div>"
      ],
      "text/plain": [
       "   YEAR  MONTH  DAY_OF_MONTH  FL_DATE CARRIER  FL_NUM ORIGIN ORIGIN_CITY_NAME  \\\n",
       "0  2017      1             2   1/2/17      AA    1767    LAS    Las Vegas, NV   \n",
       "1  2017      1             4   1/4/17      AA    1767    LAS    Las Vegas, NV   \n",
       "2  2017      1             6   1/6/17      AA    1767    LAS    Las Vegas, NV   \n",
       "3  2017      1            16  1/16/17      AA    1767    LAS    Las Vegas, NV   \n",
       "4  2017      1            24  1/24/17      AA    1767    LAS    Las Vegas, NV   \n",
       "\n",
       "  ORIGIN_STATE_NM DEST        ...         ACTUAL_ELAPSED_TIME AIR_TIME  \\\n",
       "0          Nevada  DFW        ...                         155      121   \n",
       "1          Nevada  DFW        ...                         152      114   \n",
       "2          Nevada  DFW        ...                         170      123   \n",
       "3          Nevada  DFW        ...                           0        0   \n",
       "4          Nevada  DFW        ...                         182      121   \n",
       "\n",
       "   FLIGHTS  DISTANCE  CARRIER_DELAY  WEATHER_DELAY  NAS_DELAY SECURITY_DELAY  \\\n",
       "0        1      1055              0              0          0              0   \n",
       "1        1      1055              0              0          0              0   \n",
       "2        1      1055             62              0          7              0   \n",
       "3        1      1055              0              0          0              0   \n",
       "4        1      1055              0              0         15              0   \n",
       "\n",
       "   LATE_AIRCRAFT_DELAY       CARRIER_NAME  \n",
       "0                   26  American Airlines  \n",
       "1                   42  American Airlines  \n",
       "2                    0  American Airlines  \n",
       "3                    0  American Airlines  \n",
       "4                    0  American Airlines  \n",
       "\n",
       "[5 rows x 28 columns]"
      ]
     },
     "execution_count": 2,
     "metadata": {},
     "output_type": "execute_result"
    }
   ],
   "source": [
    "delays_2015 = pd.read_csv('flight_delay_prediction/Data/flight_delays_2017.csv', delimiter = ',')\n",
    "delays_2015.head()"
   ]
  },
  {
   "cell_type": "code",
   "execution_count": 7,
   "metadata": {},
   "outputs": [],
   "source": [
    "delays_2015['ORIGIN_CITY'] = delays_2015['ORIGIN_CITY_NAME'].str.split(',').apply(getCity)"
   ]
  },
  {
   "cell_type": "code",
   "execution_count": 8,
   "metadata": {},
   "outputs": [],
   "source": [
    "ua = delays_2015.loc[(delays_2015['ORIGIN_CITY'] == 'New York') & (delays_2015['CARRIER_NAME'] == 'Delta Airlines') & (delays_2015['MONTH'] == 1)]\n",
    "ua_delay = ua.groupby(['FL_DATE'])['WEATHER_DELAY'].mean().reset_index()\n",
    "\n",
    "aa = delays_2015.loc[(delays_2015['ORIGIN_CITY'] == 'New York') & (delays_2015['CARRIER_NAME'] == 'American Airlines') & (delays_2015['MONTH'] == 1)]\n",
    "aa_delay = aa.groupby(['FL_DATE'])['WEATHER_DELAY'].mean().reset_index()\n",
    "\n",
    "jb = delays_2015.loc[(delays_2015['ORIGIN_CITY'] == 'New York') & (delays_2015['CARRIER_NAME'] == 'JetBlue Airlines') & (delays_2015['MONTH'] == 1)]\n",
    "jb_delay = jb.groupby(['FL_DATE'])['WEATHER_DELAY'].mean().reset_index()\n",
    "\n",
    "ua_dec = delays_2015.loc[(delays_2015['ORIGIN_CITY'] == 'New York') & (delays_2015['CARRIER_NAME'] == 'Delta Airlines') & (delays_2015['MONTH'] == 12)]\n",
    "ua_delay_dec = ua_dec.groupby(['FL_DATE'])['WEATHER_DELAY'].mean().reset_index()\n",
    "ua_delay_dec = ua_delay_dec.drop(ua_delay_dec.index[[0,14,30]])\n",
    "\n",
    "aa_dec = delays_2015.loc[(delays_2015['ORIGIN_CITY'] == 'New York') & (delays_2015['CARRIER_NAME'] == 'American Airlines') & (delays_2015['MONTH'] == 12)]\n",
    "aa_delay_dec = aa_dec.groupby(['FL_DATE'])['WEATHER_DELAY'].mean().reset_index()\n",
    "aa_delay_dec = aa_delay_dec.drop(aa_delay_dec.index[[0,14,30]])\n",
    "\n",
    "jb_dec = delays_2015.loc[(delays_2015['ORIGIN_CITY'] == 'New York') & (delays_2015['CARRIER_NAME'] == 'JetBlue Airlines') & (delays_2015['MONTH'] == 12)]\n",
    "jb_delay_dec = jb_dec.groupby(['FL_DATE'])['WEATHER_DELAY'].mean().reset_index()\n",
    "jb_delay_dec = jb_delay_dec.drop(jb_delay_dec.index[[0,14,30]])\n",
    "\n",
    "ua_nov = delays_2015.loc[(delays_2015['ORIGIN_CITY'] == 'New York') & (delays_2015['CARRIER_NAME'] == 'Delta Airlines') & (delays_2015['MONTH'] == 11)]\n",
    "ua_delay_nov = ua_nov.groupby(['FL_DATE'])['WEATHER_DELAY'].mean().reset_index()\n",
    "ua_delay_nov = ua_delay_nov.drop(ua_delay_nov.index[0])\n",
    "\n",
    "\n",
    "aa_nov = delays_2015.loc[(delays_2015['ORIGIN_CITY'] == 'New York') & (delays_2015['CARRIER_NAME'] == 'American Airlines') & (delays_2015['MONTH'] == 11)]\n",
    "aa_delay_nov = aa_nov.groupby(['FL_DATE'])['WEATHER_DELAY'].mean().reset_index()\n",
    "\n",
    "jb_nov = delays_2015.loc[(delays_2015['ORIGIN_CITY'] == 'New York') & (delays_2015['CARRIER_NAME'] == 'JetBlue Airlines') & (delays_2015['MONTH'] == 11)]\n",
    "jb_delay_nov = jb_nov.groupby(['FL_DATE'])['WEATHER_DELAY'].mean().reset_index()\n",
    "jb_delay_nov = jb_delay_nov.drop(jb_delay_nov.index[0])\n",
    "\n",
    "ua_feb = delays_2015.loc[(delays_2015['ORIGIN_CITY'] == 'New York') & (delays_2015['CARRIER_NAME'] == 'Delta Airlines') & (delays_2015['MONTH'] == 2)]\n",
    "ua_delay_feb = ua_feb.groupby(['FL_DATE'])['WEATHER_DELAY'].mean().reset_index()\n",
    "\n",
    "aa_feb = delays_2015.loc[(delays_2015['ORIGIN_CITY'] == 'New York') & (delays_2015['CARRIER_NAME'] == 'American Airlines') & (delays_2015['MONTH'] == 2)]\n",
    "aa_delay_feb = aa_feb.groupby(['FL_DATE'])['WEATHER_DELAY'].mean().reset_index()\n",
    "\n",
    "jb_feb = delays_2015.loc[(delays_2015['ORIGIN_CITY'] == 'New York') & (delays_2015['CARRIER_NAME'] == 'JetBlue Airlines') & (delays_2015['MONTH'] == 2)]\n",
    "jb_delay_feb = jb_feb.groupby(['FL_DATE'])['WEATHER_DELAY'].mean().reset_index()"
   ]
  },
  {
   "cell_type": "code",
   "execution_count": 9,
   "metadata": {},
   "outputs": [
    {
     "name": "stdout",
     "output_type": "stream",
     "text": [
      "January: United and American, K statistic:  Ks_2sampResult(statistic=0.06451612903225812, pvalue=0.9999998162888041)\n",
      "Critical value: 0.24170\n"
     ]
    }
   ],
   "source": [
    "print('January: United and American, K statistic: ', ks_2samp(ua_delay['WEATHER_DELAY'],aa_delay['WEATHER_DELAY']))\n",
    "print('Critical value: 0.24170')"
   ]
  },
  {
   "cell_type": "code",
   "execution_count": 10,
   "metadata": {},
   "outputs": [
    {
     "name": "stdout",
     "output_type": "stream",
     "text": [
      "January: United and Jetblue, K statistic:  Ks_2sampResult(statistic=0.16129032258064513, pvalue=0.7781601639693188)\n",
      "Critical value: 0.24170\n"
     ]
    }
   ],
   "source": [
    "print('January: United and Jetblue, K statistic: ', ks_2samp(ua_delay['WEATHER_DELAY'],jb_delay['WEATHER_DELAY']))\n",
    "print('Critical value: 0.24170')"
   ]
  },
  {
   "cell_type": "code",
   "execution_count": 11,
   "metadata": {},
   "outputs": [
    {
     "name": "stdout",
     "output_type": "stream",
     "text": [
      "January: JetBlue and American, K statistic:  Ks_2sampResult(statistic=0.16129032258064524, pvalue=0.7781601639693182)\n",
      "Critical value: 0.24170\n"
     ]
    }
   ],
   "source": [
    "print('January: JetBlue and American, K statistic: ', ks_2samp(jb_delay['WEATHER_DELAY'],aa_delay['WEATHER_DELAY']))\n",
    "print('Critical value: 0.24170')"
   ]
  },
  {
   "cell_type": "code",
   "execution_count": 12,
   "metadata": {},
   "outputs": [
    {
     "name": "stdout",
     "output_type": "stream",
     "text": [
      "February: United and American, K statistic:  Ks_2sampResult(statistic=0.1071428571428572, pvalue=0.9950300789783744)\n",
      "Critical value: 0.24170\n"
     ]
    }
   ],
   "source": [
    "print('February: United and American, K statistic: ', ks_2samp(ua_delay_feb['WEATHER_DELAY'],aa_delay_feb['WEATHER_DELAY']))\n",
    "print('Critical value: 0.24170')"
   ]
  },
  {
   "cell_type": "code",
   "execution_count": 13,
   "metadata": {},
   "outputs": [
    {
     "name": "stdout",
     "output_type": "stream",
     "text": [
      "February: United and JetBlue, K statistic:  Ks_2sampResult(statistic=0.1428571428571429, pvalue=0.9168051856555133)\n",
      "Critical value: 0.24170\n"
     ]
    }
   ],
   "source": [
    "print('February: United and JetBlue, K statistic: ', ks_2samp(ua_delay_feb['WEATHER_DELAY'],jb_delay_feb['WEATHER_DELAY']))\n",
    "print('Critical value: 0.24170')"
   ]
  },
  {
   "cell_type": "code",
   "execution_count": 14,
   "metadata": {},
   "outputs": [
    {
     "name": "stdout",
     "output_type": "stream",
     "text": [
      "February: JetBlue and American, K statistic:  Ks_2sampResult(statistic=0.1785714285714285, pvalue=0.7198213976490382)\n",
      "Critical value: 0.24170\n"
     ]
    }
   ],
   "source": [
    "print('February: JetBlue and American, K statistic: ', ks_2samp(jb_delay_feb['WEATHER_DELAY'],aa_delay_feb['WEATHER_DELAY']))\n",
    "print('Critical value: 0.24170')"
   ]
  },
  {
   "cell_type": "code",
   "execution_count": 15,
   "metadata": {},
   "outputs": [
    {
     "name": "stdout",
     "output_type": "stream",
     "text": [
      "November: United and American, K statistic:  Ks_2sampResult(statistic=0.06896551724137934, pvalue=0.9999994140797756)\n",
      "Critical value: 0.24170\n"
     ]
    }
   ],
   "source": [
    "print('November: United and American, K statistic: ', ks_2samp(ua_delay_nov['WEATHER_DELAY'],aa_delay_nov['WEATHER_DELAY']))\n",
    "print('Critical value: 0.24170')"
   ]
  },
  {
   "cell_type": "code",
   "execution_count": 16,
   "metadata": {},
   "outputs": [
    {
     "name": "stdout",
     "output_type": "stream",
     "text": [
      "November: United and JetBlue, K statistic:  Ks_2sampResult(statistic=0.06896551724137934, pvalue=0.9999994140797756)\n",
      "Critical value: 0.24170\n"
     ]
    }
   ],
   "source": [
    "print('November: United and JetBlue, K statistic: ', ks_2samp(ua_delay_nov['WEATHER_DELAY'],jb_delay_nov['WEATHER_DELAY']))\n",
    "print('Critical value: 0.24170')"
   ]
  },
  {
   "cell_type": "code",
   "execution_count": 17,
   "metadata": {},
   "outputs": [
    {
     "name": "stdout",
     "output_type": "stream",
     "text": [
      "November: JetBlue and American, K statistic:  Ks_2sampResult(statistic=0.10344827586206906, pvalue=0.9961173878360126)\n",
      "Critical value: 0.24170\n"
     ]
    }
   ],
   "source": [
    "print('November: JetBlue and American, K statistic: ', ks_2samp(jb_delay_nov['WEATHER_DELAY'],aa_delay_nov['WEATHER_DELAY']))\n",
    "print('Critical value: 0.24170')"
   ]
  },
  {
   "cell_type": "code",
   "execution_count": 18,
   "metadata": {},
   "outputs": [
    {
     "name": "stdout",
     "output_type": "stream",
     "text": [
      "December: United and American, K statistic:  Ks_2sampResult(statistic=0.1785714285714286, pvalue=0.7198213976490374)\n",
      "Critical value: 0.24170\n"
     ]
    }
   ],
   "source": [
    "print('December: United and American, K statistic: ', ks_2samp(ua_delay_dec['WEATHER_DELAY'],aa_delay_dec['WEATHER_DELAY']))\n",
    "print('Critical value: 0.24170')"
   ]
  },
  {
   "cell_type": "code",
   "execution_count": 19,
   "metadata": {},
   "outputs": [
    {
     "name": "stdout",
     "output_type": "stream",
     "text": [
      "December: United and JetBlue, K statistic:  Ks_2sampResult(statistic=0.1428571428571429, pvalue=0.9168051856555133)\n",
      "Critical value: 0.24170\n"
     ]
    }
   ],
   "source": [
    "print('December: United and JetBlue, K statistic: ', ks_2samp(ua_delay_dec['WEATHER_DELAY'],jb_delay_dec['WEATHER_DELAY']))\n",
    "print('Critical value: 0.24170')"
   ]
  },
  {
   "cell_type": "code",
   "execution_count": 20,
   "metadata": {},
   "outputs": [
    {
     "name": "stdout",
     "output_type": "stream",
     "text": [
      "December: American and JetBlue, K statistic:  Ks_2sampResult(statistic=0.1071428571428572, pvalue=0.9950300789783744)\n",
      "Critical value: 0.24170\n"
     ]
    }
   ],
   "source": [
    "print('December: American and JetBlue, K statistic: ', ks_2samp(aa_delay_dec['WEATHER_DELAY'],jb_delay_dec['WEATHER_DELAY']))\n",
    "print('Critical value: 0.24170')"
   ]
  },
  {
   "cell_type": "markdown",
   "metadata": {},
   "source": [
    "### Hypothesis 2 : In winter months, different airlines have similar weather delay distribution(Permutation Test)"
   ]
  },
  {
   "cell_type": "code",
   "execution_count": 22,
   "metadata": {},
   "outputs": [],
   "source": [
    "p_value = permutation_test(ua_delay['WEATHER_DELAY'], aa_delay['WEATHER_DELAY'],\n",
    "                           method='approximate',\n",
    "                           num_rounds=10000,\n",
    "                           seed=0)\n",
    "p_value1 = permutation_test(jb_delay['WEATHER_DELAY'], aa_delay['WEATHER_DELAY'],\n",
    "                           method='approximate',\n",
    "                           num_rounds=10000,\n",
    "                           seed=0)\n",
    "p_value2 = permutation_test(jb_delay['WEATHER_DELAY'], ua_delay['WEATHER_DELAY'],\n",
    "                           method='approximate',\n",
    "                           num_rounds=10000,\n",
    "                           seed=0)"
   ]
  },
  {
   "cell_type": "code",
   "execution_count": 23,
   "metadata": {},
   "outputs": [
    {
     "name": "stdout",
     "output_type": "stream",
     "text": [
      "Critical value: 0.05\n",
      "January:  0.339  and  0.7718  and  0.4296\n"
     ]
    }
   ],
   "source": [
    "print('Critical value: 0.05')\n",
    "print('January: ', p_value, ' and ', p_value1, ' and ', p_value2)"
   ]
  },
  {
   "cell_type": "code",
   "execution_count": 24,
   "metadata": {},
   "outputs": [],
   "source": [
    "p_value3 = permutation_test(ua_delay_feb['WEATHER_DELAY'], aa_delay_feb['WEATHER_DELAY'],\n",
    "                           method='approximate',\n",
    "                           num_rounds=10000,\n",
    "                           seed=0)\n",
    "p_value4 = permutation_test(jb_delay_feb['WEATHER_DELAY'], aa_delay_feb['WEATHER_DELAY'],\n",
    "                           method='approximate',\n",
    "                           num_rounds=10000,\n",
    "                           seed=0)\n",
    "p_value5 = permutation_test(jb_delay_feb['WEATHER_DELAY'], ua_delay_feb['WEATHER_DELAY'],\n",
    "                           method='approximate',\n",
    "                           num_rounds=10000,\n",
    "                           seed=0)"
   ]
  },
  {
   "cell_type": "code",
   "execution_count": 25,
   "metadata": {},
   "outputs": [
    {
     "name": "stdout",
     "output_type": "stream",
     "text": [
      "Critical value: 0.05\n",
      "February:  0.9552  and  0.8883  and  0.2845\n"
     ]
    }
   ],
   "source": [
    "print('Critical value: 0.05')\n",
    "print('February: ', p_value3, ' and ', p_value4, ' and ', p_value5)"
   ]
  },
  {
   "cell_type": "code",
   "execution_count": 26,
   "metadata": {},
   "outputs": [],
   "source": [
    "p_value6 = permutation_test(ua_delay_nov['WEATHER_DELAY'], aa_delay_nov['WEATHER_DELAY'],\n",
    "                           method='approximate',\n",
    "                           num_rounds=10000,\n",
    "                           seed=0)\n",
    "p_value7 = permutation_test(jb_delay_nov['WEATHER_DELAY'], aa_delay_nov['WEATHER_DELAY'],\n",
    "                           method='approximate',\n",
    "                           num_rounds=10000,\n",
    "                           seed=0)\n",
    "p_value8 = permutation_test(jb_delay_nov['WEATHER_DELAY'], ua_delay_nov['WEATHER_DELAY'],\n",
    "                           method='approximate',\n",
    "                           num_rounds=10000,\n",
    "                           seed=0)"
   ]
  },
  {
   "cell_type": "code",
   "execution_count": 27,
   "metadata": {},
   "outputs": [
    {
     "name": "stdout",
     "output_type": "stream",
     "text": [
      "Critical value: 0.05\n",
      "November:  0.5048  and  0.4231  and  0.8766\n"
     ]
    }
   ],
   "source": [
    "print('Critical value: 0.05')\n",
    "print('November: ', p_value6, ' and ', p_value7, ' and ', p_value8)"
   ]
  },
  {
   "cell_type": "code",
   "execution_count": 28,
   "metadata": {},
   "outputs": [],
   "source": [
    "p_value9 = permutation_test(ua_delay_dec['WEATHER_DELAY'], aa_delay_dec['WEATHER_DELAY'],\n",
    "                           method='approximate',\n",
    "                           num_rounds=10000,\n",
    "                           seed=0)\n",
    "p_value10 = permutation_test(jb_delay_dec['WEATHER_DELAY'], aa_delay_dec['WEATHER_DELAY'],\n",
    "                           method='approximate',\n",
    "                           num_rounds=10000,\n",
    "                           seed=0)\n",
    "p_value11 = permutation_test(jb_delay_dec['WEATHER_DELAY'], ua_delay_dec['WEATHER_DELAY'],\n",
    "                           method='approximate',\n",
    "                           num_rounds=10000,\n",
    "                           seed=0)"
   ]
  },
  {
   "cell_type": "code",
   "execution_count": 29,
   "metadata": {},
   "outputs": [
    {
     "name": "stdout",
     "output_type": "stream",
     "text": [
      "Critical value: 0.05\n",
      "December:  0.5445  and  0.4098  and  0.689\n"
     ]
    }
   ],
   "source": [
    "print('Critical value: 0.05')\n",
    "print('December: ', p_value9, ' and ', p_value10, ' and ', p_value11)"
   ]
  },
  {
   "cell_type": "markdown",
   "metadata": {},
   "source": [
    "### Hypothesis 3 : Departure delays at airports are normally distributed"
   ]
  },
  {
   "cell_type": "code",
   "execution_count": 3,
   "metadata": {},
   "outputs": [
    {
     "data": {
      "image/png": "[encoded data removed]",
      "text/plain": [
       "<matplotlib.figure.Figure at 0x1a1d5d7860>"
      ]
     },
     "metadata": {},
     "output_type": "display_data"
    }
   ],
   "source": [
    "sfo = delays_2015.loc[(delays_2015['ORIGIN'] == 'SFO')]\n",
    "jfk = delays_2015.loc[(delays_2015['ORIGIN'] == 'JFK')]\n",
    "lax = delays_2015.loc[(delays_2015['ORIGIN'] == 'LAX')]\n",
    "\n",
    "sfo = sfo.groupby(['FL_DATE'])['DEP_DELAY'].mean().reset_index()\n",
    "jfk = jfk.groupby(['FL_DATE'])['DEP_DELAY'].mean().reset_index()\n",
    "lax = lax.groupby(['FL_DATE'])['DEP_DELAY'].mean().reset_index()\n",
    "\n",
    "\n",
    "g = sns.distplot(sfo['DEP_DELAY'], color='red')\n",
    "plt.legend(['San Francisco departure delays'])\n",
    "plt.plot(sfo['DEP_DELAY'], 'r')\n",
    "plt.xlabel('DATE')\n",
    "plt.ylabel('DEPARTURE DELAY PROBABILITY DISTRIBUTION')\n",
    "\n",
    "xlabels = [sfo.loc[i,'FL_DATE'] for i in range(0, len(sfo),30)]\n",
    "plt.xlim([0,120])\n",
    "g.set(xticklabels=xlabels)\n",
    "plt.ylabel('PROB DENSITY OF DEPARTURE DELAYS')\n",
    "plt.xlabel('DEPARTURE DELAYS')\n",
    "plt.show()"
   ]
  },
  {
   "cell_type": "code",
   "execution_count": 17,
   "metadata": {},
   "outputs": [
    {
     "name": "stdout",
     "output_type": "stream",
     "text": [
      "mean_mme: 51.24164286772673\n",
      "var_mme: 201.25956013000632\n"
     ]
    }
   ],
   "source": [
    "### USing MLE and MME\n",
    "mean_mme = sum(sfo['DEP_DELAY'])/len(sfo)\n",
    "var_mme = ((sum((sfo['DEP_DELAY'])**2))/len(sfo['DEP_DELAY'])) - (mean_mme**2)\n",
    "print (\"mean_mme:\", mean_mme)\n",
    "print (\"var_mme:\", var_mme)"
   ]
  },
  {
   "cell_type": "code",
   "execution_count": 18,
   "metadata": {},
   "outputs": [
    {
     "data": {
      "text/plain": [
       "79.04737476234588"
      ]
     },
     "execution_count": 18,
     "metadata": {},
     "output_type": "execute_result"
    }
   ],
   "source": [
    "## CI\n",
    "mean_mme + (1.96) * np.sqrt(np.var(sfo['DEP_DELAY']))"
   ]
  },
  {
   "cell_type": "code",
   "execution_count": 19,
   "metadata": {},
   "outputs": [
    {
     "data": {
      "text/plain": [
       "23.435910973107585"
      ]
     },
     "execution_count": 19,
     "metadata": {},
     "output_type": "execute_result"
    }
   ],
   "source": [
    "## CI\n",
    "mean_mme - (1.96) * np.sqrt(np.var(sfo['DEP_DELAY']))"
   ]
  },
  {
   "cell_type": "code",
   "execution_count": null,
   "metadata": {},
   "outputs": [],
   "source": [
    "mean_mle = sum(sfo['DEP_DELAY'])/len(sfo)\n",
    "var_mle = ((sum(sfo['DEP_DELAY'])**2) / len(sfo))  - (mean_mme**2)"
   ]
  },
  {
   "cell_type": "code",
   "execution_count": 34,
   "metadata": {},
   "outputs": [
    {
     "name": "stdout",
     "output_type": "stream",
     "text": [
      "Critical value: 0.07 KstestResult(statistic=0.05393655108427531, pvalue=0.3290835992708401)\n",
      "We accept the null hypothesis that departure delay of flights from San Fransisco Intl Airport is normally distributed\n"
     ]
    }
   ],
   "source": [
    "std_sfo = (sfo['DEP_DELAY'] - sfo['DEP_DELAY'].mean()) / sfo['DEP_DELAY'].std()\n",
    "print('Critical value: 0.07', stats.kstest(std_sfo, 'norm'))\n",
    "print (\"We accept the null hypothesis that departure delay of flights from San Fransisco Intl Airport is normally distributed\")"
   ]
  },
  {
   "cell_type": "code",
   "execution_count": 35,
   "metadata": {},
   "outputs": [
    {
     "data": {
      "text/plain": [
       "Text(0.5,0,'DEPARTURE DELAYS')"
      ]
     },
     "execution_count": 35,
     "metadata": {},
     "output_type": "execute_result"
    },
    {
     "data": {
      "image/png": "[encoded data removed]",
      "text/plain": [
       "<matplotlib.figure.Figure at 0x1a281c8e80>"
      ]
     },
     "metadata": {},
     "output_type": "display_data"
    }
   ],
   "source": [
    "g = sns.distplot(jfk['DEP_DELAY'],color='red')\n",
    "xlabels = [jfk.loc[i,'FL_DATE'] for i in range(0, len(jfk),30)]\n",
    "plt.legend(['John F Kennedy departure delays'])\n",
    "g.set(xticklabels=xlabels)\n",
    "t = plt.xlim([0,190])\n",
    "plt.ylabel('PROB DENSITY OF DEPARTURE DELAYS')\n",
    "plt.xlabel('DEPARTURE DELAYS')"
   ]
  },
  {
   "cell_type": "code",
   "execution_count": 37,
   "metadata": {},
   "outputs": [
    {
     "name": "stdout",
     "output_type": "stream",
     "text": [
      "Critical value: 0.07 KstestResult(statistic=0.08213069406019458, pvalue=0.031238718335723226)\n",
      "We reject the null hypothesis that departure delay of flights from John F Kennedy are normally distributed\n"
     ]
    }
   ],
   "source": [
    "std_ny = (jfk['DEP_DELAY'] - jfk['DEP_DELAY'].mean()) / jfk['DEP_DELAY'].std()\n",
    "print('Critical value: 0.07', stats.kstest(std_ny, 'norm'))\n",
    "print (\"We reject the null hypothesis that departure delay of flights from John F Kennedy are normally distributed\")"
   ]
  },
  {
   "cell_type": "code",
   "execution_count": 38,
   "metadata": {},
   "outputs": [
    {
     "data": {
      "text/plain": [
       "Text(0.5,0,'DEPARTURE DELAYS')"
      ]
     },
     "execution_count": 38,
     "metadata": {},
     "output_type": "execute_result"
    },
    {
     "data": {
      "image/png": "[encoded data removed]",
      "text/plain": [
       "<matplotlib.figure.Figure at 0x1a281889e8>"
      ]
     },
     "metadata": {},
     "output_type": "display_data"
    }
   ],
   "source": [
    "g = sns.distplot(lax['DEP_DELAY'],color='red')\n",
    "xlabels = [lax.loc[i,'FL_DATE'] for i in range(0, len(lax),30)]\n",
    "plt.legend(['Los Angeles departure delays'])\n",
    "g.set(xticklabels=xlabels)\n",
    "t = plt.xlim([0,110])\n",
    "plt.ylabel('PROB DENSITY OF DEPARTURE DELAYS')\n",
    "plt.xlabel('DEPARTURE DELAYS')"
   ]
  },
  {
   "cell_type": "code",
   "execution_count": 41,
   "metadata": {},
   "outputs": [
    {
     "name": "stdout",
     "output_type": "stream",
     "text": [
      "Critical value: 0.07 KstestResult(statistic=0.05193715045910896, pvalue=0.3748095331639696)\n",
      "We accept the null hypothesis that departure delay of flights from LAX is normally distributed\n"
     ]
    }
   ],
   "source": [
    "std_lax = (lax['DEP_DELAY'] - lax['DEP_DELAY'].mean()) / lax['DEP_DELAY'].std()\n",
    "print('Critical value: 0.07', stats.kstest(std_lax, 'norm'))\n",
    "print (\"We accept the null hypothesis that departure delay of flights from LAX is normally distributed\")"
   ]
  },
  {
   "cell_type": "code",
   "execution_count": 20,
   "metadata": {},
   "outputs": [
    {
     "name": "stdout",
     "output_type": "stream",
     "text": [
      "mean_mme: 51.7213590443304\n",
      "var_mme: 156.65153915647397\n"
     ]
    }
   ],
   "source": [
    "### USing MLE and MME\n",
    "mean_mme = sum(lax['DEP_DELAY'])/len(lax)\n",
    "var_mme = ((sum((lax['DEP_DELAY'])**2))/len(lax['DEP_DELAY'])) - (mean_mme**2)\n",
    "print (\"mean_mme:\", mean_mme)\n",
    "print (\"var_mme:\", var_mme)"
   ]
  },
  {
   "cell_type": "code",
   "execution_count": 21,
   "metadata": {},
   "outputs": [
    {
     "data": {
      "text/plain": [
       "76.25281951498941"
      ]
     },
     "execution_count": 21,
     "metadata": {},
     "output_type": "execute_result"
    }
   ],
   "source": [
    "mean_mme + (1.96) * np.sqrt(np.var(lax['DEP_DELAY']))"
   ]
  },
  {
   "cell_type": "code",
   "execution_count": 22,
   "metadata": {},
   "outputs": [
    {
     "data": {
      "text/plain": [
       "27.18989857367139"
      ]
     },
     "execution_count": 22,
     "metadata": {},
     "output_type": "execute_result"
    }
   ],
   "source": [
    "mean_mme - (1.96) * np.sqrt(np.var(lax['DEP_DELAY']))"
   ]
  }
 ],
 "metadata": {
  "kernelspec": {
   "display_name": "Python [conda env:anaconda3]",
   "language": "python",
   "name": "conda-env-anaconda3-py"
  },
  "language_info": {
   "codemirror_mode": {
    "name": "ipython",
    "version": 3
   },
   "file_extension": ".py",
   "mimetype": "text/x-python",
   "name": "python",
   "nbconvert_exporter": "python",
   "pygments_lexer": "ipython3",
   "version": "3.6.4"
  }
 },
 "nbformat": 4,
 "nbformat_minor": 2
}
