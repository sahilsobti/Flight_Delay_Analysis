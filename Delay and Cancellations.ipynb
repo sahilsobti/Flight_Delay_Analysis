{
 "cells": [
  {
   "cell_type": "code",
   "execution_count": 44,
   "metadata": {},
   "outputs": [],
   "source": [
    "import pandas as pd\n",
    "import numpy as np\n",
    "import matplotlib.pyplot as plt\n",
    "import pickle as pickle\n",
    "import datetime\n",
    "import seaborn as sns\n",
    "from scipy.stats import ks_2samp\n",
    "from sklearn.preprocessing import MinMaxScaler\n",
    "from scipy import stats\n",
    "import math as m\n",
    "from mlxtend.evaluate import permutation_test"
   ]
  },
  {
   "cell_type": "code",
   "execution_count": 5,
   "metadata": {},
   "outputs": [],
   "source": [
    "def findWaldtest(p1, p2,var1, var2, n , m,):\n",
    "    denominator = float(var1)/n + float(var2)/m\n",
    "    denominator = np.sqrt(denominator)\n",
    "    return abs(float(p1-p2)/denominator)"
   ]
  },
  {
   "cell_type": "markdown",
   "metadata": {},
   "source": [
    "## Topic 1 : Delays and Cancellations"
   ]
  },
  {
   "cell_type": "markdown",
   "metadata": {},
   "source": [
    "### Hypothesis 1: Shorter distance flights causes longer arrival delays"
   ]
  },
  {
   "cell_type": "markdown",
   "metadata": {},
   "source": [
    "\"1\",\"Less Than 250 Miles\" <br>\n",
    "\"2\",\"250-499 Miles\"<br>\n",
    "\"3\",\"500-749 Miles\"<br>\n",
    "\"4\",\"750-999 Miles\"<br>\n",
    "\"5\",\"1000-1249 Miles\"<br>\n",
    "\"6\",\"1250-1499 Miles\"<br>\n",
    "\"7\",\"1500-1749 Miles\"<br>\n",
    "\"8\",\"1750-1999 Miles\"<br>\n",
    "\"9\",\"2000-2249 Miles\"<br>\n",
    "\"10\",\"2250-2499 Miles\"<br>\n",
    "\"11\",\"2500 Miles and Greater\"<br>"
   ]
  },
  {
   "cell_type": "code",
   "execution_count": 4,
   "metadata": {},
   "outputs": [],
   "source": [
    "data_3 = pd.DataFrame()\n",
    "for i in range(1,13):\n",
    "    data_3 = pd.concat([data_3 ,pd.read_csv('flight_delay_prediction/Data/555602239_T_ONTIME-'+str(i)+'.csv', delimiter =',')],axis =0)\n",
    "data_3 = data_3.drop(['Unnamed: 29'],axis =1)\n",
    "cols = ['ORIGIN_CITY_NAME','DEST_CITY_NAME', 'DISTANCE','DISTANCE_GROUP', 'DEP_DELAY', 'ARR_DELAY']\n",
    "hyp_2data = data_3.loc[:,cols]"
   ]
  },
  {
   "cell_type": "code",
   "execution_count": 6,
   "metadata": {},
   "outputs": [],
   "source": [
    "##Remove ouliers\n",
    "new_hyp_2data = hyp_2data\n",
    "q1_1 = new_hyp_2data['ARR_DELAY'].quantile(0.25)\n",
    "q2_1 = new_hyp_2data['ARR_DELAY'].quantile(0.50)\n",
    "q3_1 = new_hyp_2data['ARR_DELAY'].quantile(0.75)\n",
    "\n",
    "limit1 = 1.5 * (q3_1-q1_1)  \n",
    "\n",
    "new_hyp_2data = new_hyp_2data.loc[ (new_hyp_2data.ARR_DELAY > (q3_1 + limit1) ) |  \n",
    "                                (new_hyp_2data.ARR_DELAY  < (q3_1 - limit1))]"
   ]
  },
  {
   "cell_type": "code",
   "execution_count": 7,
   "metadata": {},
   "outputs": [
    {
     "data": {
      "image/png": "[encoded data removed]",
      "text/plain": [
       "<matplotlib.figure.Figure at 0x1a1f5eb978>"
      ]
     },
     "metadata": {},
     "output_type": "display_data"
    }
   ],
   "source": [
    "distance_vs_delay = new_hyp_2data.groupby(['DISTANCE_GROUP'])['ARR_DELAY'].mean().reset_index()\n",
    "\n",
    "tic = [\"Less Than 250 Miles\",\"250-499 Miles\", \"500-749 Miles\", \"750-999 Miles\", \"1000-1249 Miles\" ,\n",
    "       \"1250-1499 Miles\" , \"1500-1749 Miles\" , \"1750-1999 Miles\" ,\"2000-2249 Miles\" , \"2250-2499 Miles\" ,\n",
    "       \"2500 Miles and Greater\"]\n",
    "plt.plot(distance_vs_delay.DISTANCE_GROUP,distance_vs_delay.ARR_DELAY)\n",
    "plt.xlabel(\"Distance between airports\")\n",
    "plt.ylabel(\"Mean of arrival delay\")\n",
    "plt.xticks(distance_vs_delay.DISTANCE_GROUP, tic, rotation = 90)\n",
    "plt.show()"
   ]
  },
  {
   "cell_type": "markdown",
   "metadata": {},
   "source": [
    "Convert data into shorter and longer:<br>\n",
    "Shorter distance is < 1249 miles or less than or equal to 5 group <br>\n",
    "Longer distance is >=  1250 miles"
   ]
  },
  {
   "cell_type": "code",
   "execution_count": 8,
   "metadata": {},
   "outputs": [
    {
     "name": "stdout",
     "output_type": "stream",
     "text": [
      "we are rejecting the null hypothesis that shorter and longer duration causes same delay\n",
      "Wald test result : 6.717165335988699\n"
     ]
    }
   ],
   "source": [
    "m1 = np.mean(distance_vs_delay.loc[distance_vs_delay.DISTANCE_GROUP <= 5]['ARR_DELAY'])\n",
    "m2  =np.mean(distance_vs_delay.loc[distance_vs_delay.DISTANCE_GROUP > 5]['ARR_DELAY'])\n",
    "n = len(distance_vs_delay.loc[distance_vs_delay.DISTANCE_GROUP <= 5]['ARR_DELAY'])\n",
    "m = len(distance_vs_delay.loc[distance_vs_delay.DISTANCE_GROUP > 5]['ARR_DELAY'])\n",
    "var1 = np.var(distance_vs_delay.loc[distance_vs_delay.DISTANCE_GROUP <=5]['ARR_DELAY'])\n",
    "var2 = np.var(distance_vs_delay.loc[distance_vs_delay.DISTANCE_GROUP > 5]['ARR_DELAY'])\n",
    "wald_test_result = findWaldtest(m1, m2,var1, var2, n , m,)\n",
    "if wald_test_result > 1.96:\n",
    "    print (\"we are rejecting the null hypothesis that shorter and longer duration causes same delay\")\n",
    "else:\n",
    "    print (\"we are accepting the null hypothesis that shorter and longer duration causes same delay\")\n",
    "print (\"Wald test result :\",wald_test_result)"
   ]
  },
  {
   "cell_type": "code",
   "execution_count": 9,
   "metadata": {},
   "outputs": [
    {
     "name": "stdout",
     "output_type": "stream",
     "text": [
      "T stat : 6.029662287806376\n",
      "p_value : 0.0011676912716810579\n",
      "Therefore, we reject the null hypothesis\n"
     ]
    }
   ],
   "source": [
    "## t test\n",
    "a = distance_vs_delay.loc[distance_vs_delay.DISTANCE_GROUP <= 5]['ARR_DELAY']\n",
    "b = distance_vs_delay.loc[distance_vs_delay.DISTANCE_GROUP > 5]['ARR_DELAY']\n",
    "t_stat, p_value = stats.ttest_ind(a,b,equal_var = False)\n",
    "print (\"T stat :\",t_stat)\n",
    "print (\"p_value :\",p_value)\n",
    "print (\"Therefore, we reject the null hypothesis\")"
   ]
  },
  {
   "cell_type": "markdown",
   "metadata": {},
   "source": [
    "### Hypothesis 2: Small scale commercial airlines perform much better than large scale commercial airline irrespective of flight distance."
   ]
  },
  {
   "cell_type": "markdown",
   "metadata": {},
   "source": [
    "Find the best airlines based on minimum delays under 700 and above 700 Miles"
   ]
  },
  {
   "cell_type": "code",
   "execution_count": 11,
   "metadata": {},
   "outputs": [],
   "source": [
    "data_4 = pd.read_csv('flight_delay_prediction/Data/flight_delays_2016.csv', delimiter=',')\n",
    "data_4 = data_4.drop(['Unnamed: 0'], axis =1)\n",
    "airlines_under_700 = data_4.loc[data_4.DISTANCE <= 700]\n",
    "airlines_more_700 = data_4.loc[data_4.DISTANCE > 700]"
   ]
  },
  {
   "cell_type": "code",
   "execution_count": 12,
   "metadata": {},
   "outputs": [],
   "source": [
    "airlines_under_700_arr = airlines_under_700.groupby(['CARRIER_NAME'])['ARR_DELAY'].mean().reset_index()\n",
    "airlines_more_700_arr = airlines_more_700.groupby(['CARRIER_NAME'])['ARR_DELAY'].mean().reset_index()"
   ]
  },
  {
   "cell_type": "code",
   "execution_count": 13,
   "metadata": {},
   "outputs": [],
   "source": [
    "airlines_under_700_arr = airlines_under_700_arr.sort_values('ARR_DELAY').reset_index(drop=True)\n",
    "airlines_more_700_arr = airlines_more_700_arr.sort_values('ARR_DELAY').reset_index(drop=True)"
   ]
  },
  {
   "cell_type": "markdown",
   "metadata": {},
   "source": [
    "Top Airlines under 700 distance based on their sorted arrival delay "
   ]
  },
  {
   "cell_type": "code",
   "execution_count": 17,
   "metadata": {},
   "outputs": [
    {
     "data": {
      "text/html": [
       "<div>\n",
       "<style scoped>\n",
       "    .dataframe tbody tr th:only-of-type {\n",
       "        vertical-align: middle;\n",
       "    }\n",
       "\n",
       "    .dataframe tbody tr th {\n",
       "        vertical-align: top;\n",
       "    }\n",
       "\n",
       "    .dataframe thead th {\n",
       "        text-align: right;\n",
       "    }\n",
       "</style>\n",
       "<table border=\"1\" class=\"dataframe\">\n",
       "  <thead>\n",
       "    <tr style=\"text-align: right;\">\n",
       "      <th></th>\n",
       "      <th>CARRIER_NAME</th>\n",
       "      <th>ARR_DELAY</th>\n",
       "    </tr>\n",
       "  </thead>\n",
       "  <tbody>\n",
       "    <tr>\n",
       "      <th>0</th>\n",
       "      <td>Hawaiian Airlines</td>\n",
       "      <td>29.414448</td>\n",
       "    </tr>\n",
       "    <tr>\n",
       "      <th>1</th>\n",
       "      <td>SouthWest Airlines</td>\n",
       "      <td>45.672837</td>\n",
       "    </tr>\n",
       "  </tbody>\n",
       "</table>\n",
       "</div>"
      ],
      "text/plain": [
       "         CARRIER_NAME  ARR_DELAY\n",
       "0   Hawaiian Airlines  29.414448\n",
       "1  SouthWest Airlines  45.672837"
      ]
     },
     "execution_count": 17,
     "metadata": {},
     "output_type": "execute_result"
    }
   ],
   "source": [
    "airlines_under_700_arr.head(2)"
   ]
  },
  {
   "cell_type": "markdown",
   "metadata": {},
   "source": [
    "Top Airlines More than 700 distance based on their sorted arrival delay "
   ]
  },
  {
   "cell_type": "code",
   "execution_count": 18,
   "metadata": {},
   "outputs": [
    {
     "data": {
      "text/html": [
       "<div>\n",
       "<style scoped>\n",
       "    .dataframe tbody tr th:only-of-type {\n",
       "        vertical-align: middle;\n",
       "    }\n",
       "\n",
       "    .dataframe tbody tr th {\n",
       "        vertical-align: top;\n",
       "    }\n",
       "\n",
       "    .dataframe thead th {\n",
       "        text-align: right;\n",
       "    }\n",
       "</style>\n",
       "<table border=\"1\" class=\"dataframe\">\n",
       "  <thead>\n",
       "    <tr style=\"text-align: right;\">\n",
       "      <th></th>\n",
       "      <th>CARRIER_NAME</th>\n",
       "      <th>ARR_DELAY</th>\n",
       "    </tr>\n",
       "  </thead>\n",
       "  <tbody>\n",
       "    <tr>\n",
       "      <th>0</th>\n",
       "      <td>Alaska Airlines</td>\n",
       "      <td>43.223789</td>\n",
       "    </tr>\n",
       "    <tr>\n",
       "      <th>1</th>\n",
       "      <td>SouthWest Airlines</td>\n",
       "      <td>48.499967</td>\n",
       "    </tr>\n",
       "  </tbody>\n",
       "</table>\n",
       "</div>"
      ],
      "text/plain": [
       "         CARRIER_NAME  ARR_DELAY\n",
       "0     Alaska Airlines  43.223789\n",
       "1  SouthWest Airlines  48.499967"
      ]
     },
     "execution_count": 18,
     "metadata": {},
     "output_type": "execute_result"
    }
   ],
   "source": [
    "airlines_more_700_arr.head(2)"
   ]
  },
  {
   "cell_type": "code",
   "execution_count": 16,
   "metadata": {},
   "outputs": [],
   "source": [
    "top_2_under_700 = airlines_under_700_arr.head(2)\n",
    "top_2_greater_700 = airlines_more_700_arr.head(2)"
   ]
  },
  {
   "cell_type": "markdown",
   "metadata": {},
   "source": [
    "#### Under 700 miles distance "
   ]
  },
  {
   "cell_type": "markdown",
   "metadata": {},
   "source": [
    "Null Hypothesis : Hawaiian airlines and SouthWest have same mean in delay across the entire year <br>\n",
    "Alt : Hawaiian is lesser"
   ]
  },
  {
   "cell_type": "code",
   "execution_count": 19,
   "metadata": {},
   "outputs": [],
   "source": [
    "hawaii_airlines = airlines_under_700.loc[airlines_under_700['CARRIER_NAME'] == 'Hawaiian Airlines'].reset_index(drop=True)\n",
    "southwest_airlines = airlines_under_700.loc[airlines_under_700['CARRIER_NAME'] == 'SouthWest Airlines'].reset_index(drop=True)\n",
    "\n",
    "\n",
    "hawaii_airlines = hawaii_airlines.groupby('FL_DATE')['ARR_DELAY'].mean().reset_index()\n",
    "southwest_airlines = southwest_airlines.groupby('FL_DATE')['ARR_DELAY'].mean().reset_index()\n",
    "\n",
    "hawaii_airlines['FL_DATE'] = pd.to_datetime(hawaii_airlines['FL_DATE'])\n",
    "southwest_airlines['FL_DATE'] = pd.to_datetime(southwest_airlines['FL_DATE'])"
   ]
  },
  {
   "cell_type": "code",
   "execution_count": 20,
   "metadata": {},
   "outputs": [],
   "source": [
    "def getCommonDates2(df1, df2):\n",
    "    len1 = len(df1)\n",
    "    len2 = len(df2)\n",
    "    i = 0\n",
    "    j =0\n",
    "    list1 = list()\n",
    "    list2 = list()\n",
    "    while True:\n",
    "        if i < len1 and j < len2:\n",
    "            diff = (df1.loc[i,'FL_DATE'] - df2.loc[j,'FL_DATE']).days\n",
    "            if diff == 0:\n",
    "                list1.append(df1.loc[i,'ARR_DELAY'])\n",
    "                list2.append(df2.loc[j,'ARR_DELAY'])\n",
    "                i+=1\n",
    "                j+=1\n",
    "            elif diff > 0:\n",
    "                list1.append(0)\n",
    "                list2.append(df2.loc[j,'ARR_DELAY'])\n",
    "                j+=1\n",
    "            elif diff < 0:\n",
    "                list1.append(df1.loc[i,'ARR_DELAY'])\n",
    "                list2.append(0)\n",
    "                i+=1\n",
    "        elif i < len1:\n",
    "            list1.append(df1.loc[i,'ARR_DELAY'])\n",
    "            list2.append(0)\n",
    "            i+=1\n",
    "        elif j < len2:\n",
    "            list1.append(0)\n",
    "            list2.append(df2.loc[j,'ARR_DELAY'])\n",
    "            j+=1\n",
    "        else:\n",
    "            return (list1, list2)"
   ]
  },
  {
   "cell_type": "code",
   "execution_count": 21,
   "metadata": {},
   "outputs": [],
   "source": [
    "hawii_list , south_list = getCommonDates2(hawaii_airlines,southwest_airlines)"
   ]
  },
  {
   "cell_type": "code",
   "execution_count": 22,
   "metadata": {},
   "outputs": [],
   "source": [
    "wald = findWaldtest(np.mean(hawii_list),np.mean(south_list),np.var(hawii_list), np.var(south_list),len(hawii_list), len(south_list))"
   ]
  },
  {
   "cell_type": "code",
   "execution_count": 23,
   "metadata": {},
   "outputs": [
    {
     "name": "stdout",
     "output_type": "stream",
     "text": [
      "wald : 19.96444174044809\n",
      "critical value : 1.645\n",
      "We reject the null hypothesis\n"
     ]
    }
   ],
   "source": [
    "print (\"wald :\", wald)\n",
    "print (\"critical value :\",1.645)\n",
    "print (\"We reject the null hypothesis\")"
   ]
  },
  {
   "cell_type": "code",
   "execution_count": 24,
   "metadata": {},
   "outputs": [
    {
     "data": {
      "image/png": "[encoded data removed]",
      "text/plain": [
       "<matplotlib.figure.Figure at 0x10f5112b0>"
      ]
     },
     "metadata": {},
     "output_type": "display_data"
    }
   ],
   "source": [
    "plt.plot(hawii_list,color='b')\n",
    "plt.plot(south_list,color='r')\n",
    "plt.legend(['Hawaiian Airlines','SouthWest Airlines'])\n",
    "plt.xlabel('Day of the year')\n",
    "plt.ylabel('Mean arrival delay per day')\n",
    "plt.title('Flights under 700 Miles')\n",
    "plt.show()"
   ]
  },
  {
   "cell_type": "markdown",
   "metadata": {},
   "source": [
    "#### Above 700 miles distance "
   ]
  },
  {
   "cell_type": "code",
   "execution_count": 25,
   "metadata": {},
   "outputs": [],
   "source": [
    "alaska_airlines = airlines_more_700.loc[airlines_more_700['CARRIER_NAME'] == 'Alaska Airlines'].reset_index(drop=True)\n",
    "southwest_airlines = airlines_more_700.loc[airlines_more_700['CARRIER_NAME'] == 'SouthWest Airlines'].reset_index(drop=True)\n",
    "\n",
    "\n",
    "alaska_airlines = alaska_airlines.groupby('FL_DATE')['ARR_DELAY'].mean().reset_index()\n",
    "southwest_airlines = southwest_airlines.groupby('FL_DATE')['ARR_DELAY'].mean().reset_index()\n",
    "\n",
    "alaska_airlines['FL_DATE'] = pd.to_datetime(alaska_airlines['FL_DATE'])\n",
    "southwest_airlines['FL_DATE'] = pd.to_datetime(southwest_airlines['FL_DATE'])"
   ]
  },
  {
   "cell_type": "code",
   "execution_count": 26,
   "metadata": {},
   "outputs": [],
   "source": [
    "alaska_list , south_list = getCommonDates2(alaska_airlines,southwest_airlines)"
   ]
  },
  {
   "cell_type": "code",
   "execution_count": 27,
   "metadata": {},
   "outputs": [],
   "source": [
    "wald = findWaldtest(np.mean(alaska_list),\n",
    "                    np.mean(south_list),np.var(alaska_list),\n",
    "                    np.var(south_list),len(alaska_list), len(south_list))"
   ]
  },
  {
   "cell_type": "code",
   "execution_count": 28,
   "metadata": {},
   "outputs": [
    {
     "name": "stdout",
     "output_type": "stream",
     "text": [
      "wald : 5.488111768392588\n",
      "critical value : 1.645\n",
      "We reject the null hypothesis\n"
     ]
    }
   ],
   "source": [
    "print (\"wald :\", wald)\n",
    "print (\"critical value :\",1.645)\n",
    "print (\"We reject the null hypothesis\")"
   ]
  },
  {
   "cell_type": "code",
   "execution_count": 29,
   "metadata": {},
   "outputs": [
    {
     "data": {
      "image/png": "[encoded data removed]",
      "text/plain": [
       "<matplotlib.figure.Figure at 0x1a3f695470>"
      ]
     },
     "metadata": {},
     "output_type": "display_data"
    }
   ],
   "source": [
    "plt.plot(alaska_list,color='g')\n",
    "plt.plot(south_list,color='r')\n",
    "plt.legend(['Alaska Airlines','SouthWest Airlines'])\n",
    "plt.xlabel('Day of the year')\n",
    "plt.ylabel('Mean arrival delay per day')\n",
    "plt.title('Flights above 700 Miles')\n",
    "plt.show()"
   ]
  },
  {
   "cell_type": "markdown",
   "metadata": {},
   "source": [
    "### Hypothesis 3: Rate of cancellation of flights is uniform across the day.  "
   ]
  },
  {
   "cell_type": "code",
   "execution_count": 30,
   "metadata": {},
   "outputs": [
    {
     "name": "stderr",
     "output_type": "stream",
     "text": [
      "/anaconda3/lib/python3.6/site-packages/ipykernel/__main__.py:8: SettingWithCopyWarning: \n",
      "A value is trying to be set on a copy of a slice from a DataFrame.\n",
      "Try using .loc[row_indexer,col_indexer] = value instead\n",
      "\n",
      "See the caveats in the documentation: http://pandas.pydata.org/pandas-docs/stable/indexing.html#indexing-view-versus-copy\n"
     ]
    }
   ],
   "source": [
    "data = pd.read_csv('flight_delay_prediction/Data/flight_delays_2016.csv','r', delimiter=',')\n",
    "data = data.drop(['Unnamed: 0'],axis = 1)\n",
    "ln_can = data.loc[(data['DEP_TIME']>=0.0) & (data['DEP_TIME']<=400.0) & (data['CANCELLED']!=0) & \n",
    "        ((data['MONTH'] == 3)|(data['MONTH'] == 4)|(data['MONTH'] == 5))\n",
    "         & (data['ORIGIN'] == 'JFK')]\n",
    "ln_mean = len(ln_can.index)/31\n",
    "\n",
    "ln_can['NF'] = np.nan\n",
    "ln_can = ln_can.fillna(1)\n",
    "x = ln_can.groupby(['DAY_OF_MONTH'])['NF'].sum()"
   ]
  },
  {
   "cell_type": "code",
   "execution_count": 31,
   "metadata": {},
   "outputs": [],
   "source": [
    "l = {}\n",
    "for i,val in x.iteritems():\n",
    "    l[i] = val"
   ]
  },
  {
   "cell_type": "code",
   "execution_count": 33,
   "metadata": {},
   "outputs": [],
   "source": [
    "l2 = []\n",
    "for i in range(31):\n",
    "    if i in l.keys():\n",
    "        l2.append(l[i])\n",
    "    else:\n",
    "        l2.append(0)\n",
    "ln_var = np.var(l2)"
   ]
  },
  {
   "cell_type": "code",
   "execution_count": 34,
   "metadata": {},
   "outputs": [],
   "source": [
    "em_can = data.loc[(data['DEP_TIME']>400.0) & (data['DEP_TIME']<=800.0) & (data['CANCELLED']!=0) &\n",
    "        ((data['MONTH'] == 3)|(data['MONTH'] == 4)|(data['MONTH'] == 5))\n",
    "         & (data['ORIGIN'] == 'JFK')]\n",
    "\n",
    "em_mean = len(em_can.index)/31\n",
    "\n",
    "em_can['NF'] = np.nan\n",
    "em_can = em_can.fillna(1)\n",
    "x = em_can.groupby(['DAY_OF_MONTH'])['NF'].sum()"
   ]
  },
  {
   "cell_type": "code",
   "execution_count": 35,
   "metadata": {},
   "outputs": [],
   "source": [
    "l = {}\n",
    "for i,val in x.iteritems():\n",
    "    l[i] = val\n",
    "l2 = []\n",
    "for i in range(31):\n",
    "    if i in l.keys():\n",
    "        l2.append(l[i])\n",
    "    else:\n",
    "        l2.append(0)\n",
    "em_var = np.var(l2)"
   ]
  },
  {
   "cell_type": "code",
   "execution_count": 36,
   "metadata": {},
   "outputs": [],
   "source": [
    "m_can = data.loc[(data['DEP_TIME']>800.0) & (data['DEP_TIME']<=1200.0) & (data['CANCELLED']!=0) & \n",
    "        ((data['MONTH'] == 3)|(data['MONTH'] == 4)|(data['MONTH'] == 5))\n",
    "         & (data['ORIGIN'] == 'JFK')]\n",
    "\n",
    "m_mean = len(m_can.index)/31\n",
    "\n",
    "m_can['NF'] = np.nan\n",
    "m_can = m_can.fillna(1)\n",
    "x = m_can.groupby(['DAY_OF_MONTH'])['NF'].sum()"
   ]
  },
  {
   "cell_type": "code",
   "execution_count": 37,
   "metadata": {},
   "outputs": [],
   "source": [
    "l = {}\n",
    "for i,val in x.iteritems():\n",
    "    l[i] = val\n",
    "l2 = []\n",
    "for i in range(31):\n",
    "    if i in l.keys():\n",
    "        l2.append(l[i])\n",
    "    else:\n",
    "        l2.append(0)\n",
    "m_var = np.var(l2)"
   ]
  },
  {
   "cell_type": "code",
   "execution_count": 39,
   "metadata": {},
   "outputs": [],
   "source": [
    "a_can = data.loc[(data['DEP_TIME']>1200.0) & (data['DEP_TIME']<=1600.0) & (data['CANCELLED']!=0) &\n",
    "        ((data['MONTH'] == 3)|(data['MONTH'] == 4)|(data['MONTH'] == 5))\n",
    "         & (data['ORIGIN'] == 'JFK')]\n",
    "\n",
    "a_mean = len(m_can.index)/31\n",
    "\n",
    "a_can['NF'] = np.nan\n",
    "a_can = a_can.fillna(1)\n",
    "x = a_can.groupby(['DAY_OF_MONTH'])['NF'].sum()"
   ]
  },
  {
   "cell_type": "code",
   "execution_count": 40,
   "metadata": {},
   "outputs": [
    {
     "name": "stderr",
     "output_type": "stream",
     "text": [
      "/anaconda3/lib/python3.6/site-packages/ipykernel/__main__.py:18: SettingWithCopyWarning: \n",
      "A value is trying to be set on a copy of a slice from a DataFrame.\n",
      "Try using .loc[row_indexer,col_indexer] = value instead\n",
      "\n",
      "See the caveats in the documentation: http://pandas.pydata.org/pandas-docs/stable/indexing.html#indexing-view-versus-copy\n"
     ]
    }
   ],
   "source": [
    "l = {}\n",
    "for i,val in x.iteritems():\n",
    "    l[i] = val\n",
    "l2 = []\n",
    "for i in range(31):\n",
    "    if i in l.keys():\n",
    "        l2.append(l[i])\n",
    "    else:\n",
    "        l2.append(0)\n",
    "a_var = np.var(l2)\n",
    "\n",
    "e_can = data.loc[(data['DEP_TIME']>1600.0) & (data['DEP_TIME']<=2000.0) & (data['CANCELLED']!=0) & \n",
    "        ((data['MONTH'] == 3)|(data['MONTH'] == 4)|(data['MONTH'] == 5))\n",
    "         & (data['ORIGIN'] == 'JFK')]\n",
    "\n",
    "e_mean = len(m_can.index)/31\n",
    "\n",
    "e_can['NF'] = np.nan\n",
    "e_can = e_can.fillna(1)\n",
    "x = e_can.groupby(['DAY_OF_MONTH'])['NF'].sum()"
   ]
  },
  {
   "cell_type": "code",
   "execution_count": 41,
   "metadata": {},
   "outputs": [
    {
     "name": "stderr",
     "output_type": "stream",
     "text": [
      "/anaconda3/lib/python3.6/site-packages/ipykernel/__main__.py:16: SettingWithCopyWarning: \n",
      "A value is trying to be set on a copy of a slice from a DataFrame.\n",
      "Try using .loc[row_indexer,col_indexer] = value instead\n",
      "\n",
      "See the caveats in the documentation: http://pandas.pydata.org/pandas-docs/stable/indexing.html#indexing-view-versus-copy\n"
     ]
    }
   ],
   "source": [
    "l = {}\n",
    "for i,val in x.iteritems():\n",
    "    l[i] = val\n",
    "l2 = []\n",
    "for i in range(31):\n",
    "    if i in l.keys():\n",
    "        l2.append(l[i])\n",
    "    else:\n",
    "        l2.append(0)\n",
    "e_var = np.var(l2)\n",
    "\n",
    "n_can = data.loc[(data['DEP_TIME']>2000.0) & (data['DEP_TIME']<=2400.0) & (data['CANCELLED']!=0) &\n",
    "        ((data['MONTH'] == 3)|(data['MONTH'] == 4)|(data['MONTH'] == 5))\n",
    "         & (data['ORIGIN'] == 'JFK')]\n",
    "n_mean = len(m_can.index)/31\n",
    "n_can['NF'] = np.nan\n",
    "n_can = n_can.fillna(1)\n",
    "x = n_can.groupby(['DAY_OF_MONTH'])['NF'].sum()"
   ]
  },
  {
   "cell_type": "code",
   "execution_count": 42,
   "metadata": {},
   "outputs": [],
   "source": [
    "l = {}\n",
    "for i,val in x.iteritems():\n",
    "    l[i] = val\n",
    "l2 = []\n",
    "for i in range(31):\n",
    "    if i in l.keys():\n",
    "        l2.append(l[i])\n",
    "    else:\n",
    "        l2.append(0)\n",
    "n_var = np.var(l2)"
   ]
  },
  {
   "cell_type": "code",
   "execution_count": 43,
   "metadata": {},
   "outputs": [],
   "source": [
    "def wald(m1,m2,v1,v2):\n",
    "    wald_statistic = (abs(m1-m2))/(m.sqrt((v1/31) + (v2/31)))\n",
    "    return wald_statistic"
   ]
  },
  {
   "cell_type": "code",
   "execution_count": 45,
   "metadata": {},
   "outputs": [
    {
     "data": {
      "text/plain": [
       "5.632802102863734"
      ]
     },
     "execution_count": 45,
     "metadata": {},
     "output_type": "execute_result"
    }
   ],
   "source": [
    "# late night vs early morning\n",
    "wald(ln_mean,em_mean,ln_var,em_var)"
   ]
  },
  {
   "cell_type": "code",
   "execution_count": 46,
   "metadata": {},
   "outputs": [
    {
     "data": {
      "text/plain": [
       "5.632802102863734"
      ]
     },
     "execution_count": 46,
     "metadata": {},
     "output_type": "execute_result"
    }
   ],
   "source": [
    "# late night vs  morning\n",
    "wald(ln_mean,m_mean,ln_var,m_var)"
   ]
  },
  {
   "cell_type": "code",
   "execution_count": 47,
   "metadata": {},
   "outputs": [
    {
     "data": {
      "text/plain": [
       "5.632802102863734"
      ]
     },
     "execution_count": 47,
     "metadata": {},
     "output_type": "execute_result"
    }
   ],
   "source": [
    "# late night vs  afternoon\n",
    "wald(ln_mean,a_mean,ln_var,a_var)"
   ]
  },
  {
   "cell_type": "code",
   "execution_count": 48,
   "metadata": {},
   "outputs": [
    {
     "data": {
      "text/plain": [
       "5.380573000432567"
      ]
     },
     "execution_count": 48,
     "metadata": {},
     "output_type": "execute_result"
    }
   ],
   "source": [
    "# late night vs  evening\n",
    "wald(ln_mean,e_mean,ln_var,e_var)"
   ]
  },
  {
   "cell_type": "code",
   "execution_count": 49,
   "metadata": {},
   "outputs": [
    {
     "data": {
      "text/plain": [
       "5.380573000432567"
      ]
     },
     "execution_count": 49,
     "metadata": {},
     "output_type": "execute_result"
    }
   ],
   "source": [
    "# late night vs  evening\n",
    "wald(ln_mean,e_mean,ln_var,e_var)"
   ]
  }
 ],
 "metadata": {
  "kernelspec": {
   "display_name": "Python [conda env:anaconda3]",
   "language": "python",
   "name": "conda-env-anaconda3-py"
  },
  "language_info": {
   "codemirror_mode": {
    "name": "ipython",
    "version": 3
   },
   "file_extension": ".py",
   "mimetype": "text/x-python",
   "name": "python",
   "nbconvert_exporter": "python",
   "pygments_lexer": "ipython3",
   "version": "3.6.4"
  }
 },
 "nbformat": 4,
 "nbformat_minor": 2
}
