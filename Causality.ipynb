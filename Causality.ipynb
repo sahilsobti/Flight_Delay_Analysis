{
 "cells": [
  {
   "cell_type": "code",
   "execution_count": 1,
   "metadata": {},
   "outputs": [],
   "source": [
    "import pandas as pd\n",
    "import numpy as np\n",
    "import matplotlib.pyplot as plt\n",
    "import pickle as pickle\n",
    "import datetime\n",
    "import seaborn as sns\n",
    "from scipy.stats import ks_2samp\n",
    "from sklearn.preprocessing import MinMaxScaler\n",
    "from scipy import stats\n",
    "from mlxtend.evaluate import permutation_test"
   ]
  },
  {
   "cell_type": "code",
   "execution_count": 10,
   "metadata": {},
   "outputs": [],
   "source": [
    "def findWaldtest(p1, p2,var1, var2, n , m):\n",
    "    denominator = float(var1)/n + float(var2)/m\n",
    "    denominator = np.sqrt(denominator)\n",
    "    return abs(float(p1-p2)/denominator)"
   ]
  },
  {
   "cell_type": "code",
   "execution_count": 34,
   "metadata": {},
   "outputs": [],
   "source": [
    "def getCommonDates(df1, df2):\n",
    "    len1 = len(df1)\n",
    "    len2 = len(df2)\n",
    "    i = 0\n",
    "    j =0\n",
    "    list1 = list()\n",
    "    list2 = list()\n",
    "    while True:\n",
    "        if i < len1 and j < len2:\n",
    "            diff = (df1.loc[i,'FL_DATE'] - df2.loc[j,'FL_DATE']).days\n",
    "            if diff == 0:\n",
    "                list1.append(df1.loc[i,'DEP_DELAY'])\n",
    "                list2.append(df2.loc[j,'DEP_DELAY'])\n",
    "                i+=1\n",
    "                j+=1\n",
    "            elif diff > 0:\n",
    "                list1.append(0)\n",
    "                list2.append(df2.loc[j,'DEP_DELAY'])\n",
    "                j+=1\n",
    "            elif diff < 0:\n",
    "                list1.append(df1.loc[i,'DEP_DELAY'])\n",
    "                list2.append(0)\n",
    "                i+=1\n",
    "        elif i < len1:\n",
    "            list1.append(df1.loc[i,'DEP_DELAY'])\n",
    "            list2.append(0)\n",
    "            i+=1\n",
    "        elif j < len2:\n",
    "            list1.append(0)\n",
    "            list2.append(df2.loc[j,'DEP_DELAY'])\n",
    "            j+=1\n",
    "        else:\n",
    "            return (list1, list2)"
   ]
  },
  {
   "cell_type": "markdown",
   "metadata": {},
   "source": [
    "## Topic 2: Causality"
   ]
  },
  {
   "cell_type": "markdown",
   "metadata": {},
   "source": [
    "### Hypothesis 1:  A ripple effect is observed when one flight gets delayed on arrival at an airport"
   ]
  },
  {
   "cell_type": "code",
   "execution_count": 52,
   "metadata": {},
   "outputs": [],
   "source": [
    "corr = pd.read_csv('flight_delay_prediction/Data/flight_delays_2017.csv', delimiter = ',')"
   ]
  },
  {
   "cell_type": "code",
   "execution_count": 53,
   "metadata": {},
   "outputs": [],
   "source": [
    "df1 = corr.loc[(corr['DEST'] == 'LAX')  & (corr['ARR_DELAY'] > 50) & (corr['CARRIER_NAME'] == 'JetBlue Airlines')]\n",
    "df2 = corr.loc[(corr['ORIGIN'] == 'LAX') & (corr['DEP_DELAY'] > 0) & (corr['CARRIER_NAME'] == 'JetBlue Airlines')]"
   ]
  },
  {
   "cell_type": "code",
   "execution_count": 54,
   "metadata": {},
   "outputs": [],
   "source": [
    "origin_airports = list(df1['ORIGIN'].unique())\n",
    "dest_airports = list(df1['DEST'].unique())\n",
    "\n",
    "in_first = set(origin_airports)\n",
    "in_second = set(dest_airports)\n",
    "\n",
    "in_second_but_not_in_first = in_second - in_first\n",
    "result_airports = origin_airports + list(in_second_but_not_in_first)\n",
    "\n",
    "airline_carrier = list(df1['CARRIER'].unique())\n",
    "\n",
    "origin_airports = list(df2['ORIGIN'].unique())\n",
    "dest_airports = list(df2['DEST'].unique())\n",
    "\n",
    "in_first = set(origin_airports)\n",
    "in_second = set(dest_airports)\n",
    "\n",
    "in_second_but_not_in_first = in_second - in_first\n",
    "result_airports = origin_airports + list(in_second_but_not_in_first)\n",
    "\n",
    "airline_carrier = list(df2['CARRIER'].unique())\n",
    "\n",
    "#Calcualte the schedule departure, departure time - departure delay\n",
    "        \n",
    "def get_time_in_min(x):\n",
    "    val = x\n",
    "    if len(x) == 4:\n",
    "        pass\n",
    "    elif len(x) == 3:\n",
    "        val = '0' + val\n",
    "    elif len(x) == 2:\n",
    "        val = '00' + val\n",
    "    elif len(x) == 1:\n",
    "        val = '000'+ val\n",
    "    hours = int(val[:2])*60 \n",
    "    mins = int(val[2:])\n",
    "    return hours+mins\n",
    "\n",
    "def get_hour_from_min(x): \n",
    "    return int(x/60)\n",
    "\n",
    "def getWeekDay(df):\n",
    "    year, month, day = (int(x) for x in df['FL_DATE'].split('-'))    \n",
    "    answer = datetime.date(year, month, day).weekday()\n",
    "    return answer\n",
    "\n",
    "def get_airport_id(x):\n",
    "    return result_airports.index(x)\n",
    "\n",
    "def get_airline_carrier_code(x):\n",
    "    return airline_carrier.index(x)\n",
    "\n",
    "def check_for_negative(x):\n",
    "    if x<0:\n",
    "        return x+1440\n",
    "    else:\n",
    "        return x"
   ]
  },
  {
   "cell_type": "code",
   "execution_count": 55,
   "metadata": {},
   "outputs": [
    {
     "name": "stderr",
     "output_type": "stream",
     "text": [
      "/anaconda3/lib/python3.6/site-packages/ipykernel/__main__.py:1: SettingWithCopyWarning: \n",
      "A value is trying to be set on a copy of a slice from a DataFrame.\n",
      "Try using .loc[row_indexer,col_indexer] = value instead\n",
      "\n",
      "See the caveats in the documentation: http://pandas.pydata.org/pandas-docs/stable/indexing.html#indexing-view-versus-copy\n",
      "  if __name__ == '__main__':\n",
      "/anaconda3/lib/python3.6/site-packages/ipykernel/__main__.py:2: SettingWithCopyWarning: \n",
      "A value is trying to be set on a copy of a slice from a DataFrame.\n",
      "Try using .loc[row_indexer,col_indexer] = value instead\n",
      "\n",
      "See the caveats in the documentation: http://pandas.pydata.org/pandas-docs/stable/indexing.html#indexing-view-versus-copy\n",
      "  from ipykernel import kernelapp as app\n",
      "/anaconda3/lib/python3.6/site-packages/ipykernel/__main__.py:3: SettingWithCopyWarning: \n",
      "A value is trying to be set on a copy of a slice from a DataFrame.\n",
      "Try using .loc[row_indexer,col_indexer] = value instead\n",
      "\n",
      "See the caveats in the documentation: http://pandas.pydata.org/pandas-docs/stable/indexing.html#indexing-view-versus-copy\n",
      "  app.launch_new_instance()\n",
      "/anaconda3/lib/python3.6/site-packages/ipykernel/__main__.py:4: SettingWithCopyWarning: \n",
      "A value is trying to be set on a copy of a slice from a DataFrame.\n",
      "Try using .loc[row_indexer,col_indexer] = value instead\n",
      "\n",
      "See the caveats in the documentation: http://pandas.pydata.org/pandas-docs/stable/indexing.html#indexing-view-versus-copy\n",
      "/anaconda3/lib/python3.6/site-packages/ipykernel/__main__.py:5: SettingWithCopyWarning: \n",
      "A value is trying to be set on a copy of a slice from a DataFrame.\n",
      "Try using .loc[row_indexer,col_indexer] = value instead\n",
      "\n",
      "See the caveats in the documentation: http://pandas.pydata.org/pandas-docs/stable/indexing.html#indexing-view-versus-copy\n",
      "/anaconda3/lib/python3.6/site-packages/ipykernel/__main__.py:6: SettingWithCopyWarning: \n",
      "A value is trying to be set on a copy of a slice from a DataFrame.\n",
      "Try using .loc[row_indexer,col_indexer] = value instead\n",
      "\n",
      "See the caveats in the documentation: http://pandas.pydata.org/pandas-docs/stable/indexing.html#indexing-view-versus-copy\n",
      "/anaconda3/lib/python3.6/site-packages/ipykernel/__main__.py:8: SettingWithCopyWarning: \n",
      "A value is trying to be set on a copy of a slice from a DataFrame.\n",
      "Try using .loc[row_indexer,col_indexer] = value instead\n",
      "\n",
      "See the caveats in the documentation: http://pandas.pydata.org/pandas-docs/stable/indexing.html#indexing-view-versus-copy\n",
      "/anaconda3/lib/python3.6/site-packages/ipykernel/__main__.py:9: SettingWithCopyWarning: \n",
      "A value is trying to be set on a copy of a slice from a DataFrame.\n",
      "Try using .loc[row_indexer,col_indexer] = value instead\n",
      "\n",
      "See the caveats in the documentation: http://pandas.pydata.org/pandas-docs/stable/indexing.html#indexing-view-versus-copy\n",
      "/anaconda3/lib/python3.6/site-packages/ipykernel/__main__.py:10: SettingWithCopyWarning: \n",
      "A value is trying to be set on a copy of a slice from a DataFrame.\n",
      "Try using .loc[row_indexer,col_indexer] = value instead\n",
      "\n",
      "See the caveats in the documentation: http://pandas.pydata.org/pandas-docs/stable/indexing.html#indexing-view-versus-copy\n",
      "/anaconda3/lib/python3.6/site-packages/ipykernel/__main__.py:11: SettingWithCopyWarning: \n",
      "A value is trying to be set on a copy of a slice from a DataFrame.\n",
      "Try using .loc[row_indexer,col_indexer] = value instead\n",
      "\n",
      "See the caveats in the documentation: http://pandas.pydata.org/pandas-docs/stable/indexing.html#indexing-view-versus-copy\n",
      "/anaconda3/lib/python3.6/site-packages/ipykernel/__main__.py:12: SettingWithCopyWarning: \n",
      "A value is trying to be set on a copy of a slice from a DataFrame.\n",
      "Try using .loc[row_indexer,col_indexer] = value instead\n",
      "\n",
      "See the caveats in the documentation: http://pandas.pydata.org/pandas-docs/stable/indexing.html#indexing-view-versus-copy\n",
      "/anaconda3/lib/python3.6/site-packages/ipykernel/__main__.py:13: SettingWithCopyWarning: \n",
      "A value is trying to be set on a copy of a slice from a DataFrame.\n",
      "Try using .loc[row_indexer,col_indexer] = value instead\n",
      "\n",
      "See the caveats in the documentation: http://pandas.pydata.org/pandas-docs/stable/indexing.html#indexing-view-versus-copy\n",
      "/anaconda3/lib/python3.6/site-packages/ipykernel/__main__.py:15: SettingWithCopyWarning: \n",
      "A value is trying to be set on a copy of a slice from a DataFrame.\n",
      "Try using .loc[row_indexer,col_indexer] = value instead\n",
      "\n",
      "See the caveats in the documentation: http://pandas.pydata.org/pandas-docs/stable/indexing.html#indexing-view-versus-copy\n",
      "/anaconda3/lib/python3.6/site-packages/ipykernel/__main__.py:16: SettingWithCopyWarning: \n",
      "A value is trying to be set on a copy of a slice from a DataFrame.\n",
      "Try using .loc[row_indexer,col_indexer] = value instead\n",
      "\n",
      "See the caveats in the documentation: http://pandas.pydata.org/pandas-docs/stable/indexing.html#indexing-view-versus-copy\n",
      "/anaconda3/lib/python3.6/site-packages/ipykernel/__main__.py:17: SettingWithCopyWarning: \n",
      "A value is trying to be set on a copy of a slice from a DataFrame.\n",
      "Try using .loc[row_indexer,col_indexer] = value instead\n",
      "\n",
      "See the caveats in the documentation: http://pandas.pydata.org/pandas-docs/stable/indexing.html#indexing-view-versus-copy\n",
      "/anaconda3/lib/python3.6/site-packages/ipykernel/__main__.py:18: SettingWithCopyWarning: \n",
      "A value is trying to be set on a copy of a slice from a DataFrame.\n",
      "Try using .loc[row_indexer,col_indexer] = value instead\n",
      "\n",
      "See the caveats in the documentation: http://pandas.pydata.org/pandas-docs/stable/indexing.html#indexing-view-versus-copy\n",
      "/anaconda3/lib/python3.6/site-packages/ipykernel/__main__.py:19: SettingWithCopyWarning: \n",
      "A value is trying to be set on a copy of a slice from a DataFrame.\n",
      "Try using .loc[row_indexer,col_indexer] = value instead\n",
      "\n",
      "See the caveats in the documentation: http://pandas.pydata.org/pandas-docs/stable/indexing.html#indexing-view-versus-copy\n",
      "/anaconda3/lib/python3.6/site-packages/ipykernel/__main__.py:20: SettingWithCopyWarning: \n",
      "A value is trying to be set on a copy of a slice from a DataFrame.\n",
      "Try using .loc[row_indexer,col_indexer] = value instead\n",
      "\n",
      "See the caveats in the documentation: http://pandas.pydata.org/pandas-docs/stable/indexing.html#indexing-view-versus-copy\n",
      "/anaconda3/lib/python3.6/site-packages/ipykernel/__main__.py:22: SettingWithCopyWarning: \n",
      "A value is trying to be set on a copy of a slice from a DataFrame.\n",
      "Try using .loc[row_indexer,col_indexer] = value instead\n",
      "\n",
      "See the caveats in the documentation: http://pandas.pydata.org/pandas-docs/stable/indexing.html#indexing-view-versus-copy\n",
      "/anaconda3/lib/python3.6/site-packages/ipykernel/__main__.py:23: SettingWithCopyWarning: \n",
      "A value is trying to be set on a copy of a slice from a DataFrame.\n",
      "Try using .loc[row_indexer,col_indexer] = value instead\n",
      "\n",
      "See the caveats in the documentation: http://pandas.pydata.org/pandas-docs/stable/indexing.html#indexing-view-versus-copy\n",
      "/anaconda3/lib/python3.6/site-packages/ipykernel/__main__.py:24: SettingWithCopyWarning: \n",
      "A value is trying to be set on a copy of a slice from a DataFrame.\n",
      "Try using .loc[row_indexer,col_indexer] = value instead\n",
      "\n",
      "See the caveats in the documentation: http://pandas.pydata.org/pandas-docs/stable/indexing.html#indexing-view-versus-copy\n",
      "/anaconda3/lib/python3.6/site-packages/ipykernel/__main__.py:25: SettingWithCopyWarning: \n",
      "A value is trying to be set on a copy of a slice from a DataFrame.\n",
      "Try using .loc[row_indexer,col_indexer] = value instead\n",
      "\n",
      "See the caveats in the documentation: http://pandas.pydata.org/pandas-docs/stable/indexing.html#indexing-view-versus-copy\n",
      "/anaconda3/lib/python3.6/site-packages/ipykernel/__main__.py:26: SettingWithCopyWarning: \n",
      "A value is trying to be set on a copy of a slice from a DataFrame.\n",
      "Try using .loc[row_indexer,col_indexer] = value instead\n",
      "\n",
      "See the caveats in the documentation: http://pandas.pydata.org/pandas-docs/stable/indexing.html#indexing-view-versus-copy\n",
      "/anaconda3/lib/python3.6/site-packages/ipykernel/__main__.py:27: SettingWithCopyWarning: \n",
      "A value is trying to be set on a copy of a slice from a DataFrame.\n",
      "Try using .loc[row_indexer,col_indexer] = value instead\n",
      "\n",
      "See the caveats in the documentation: http://pandas.pydata.org/pandas-docs/stable/indexing.html#indexing-view-versus-copy\n"
     ]
    }
   ],
   "source": [
    "df1['SCHEDULE_DEP']  = df1['DEP_TIME'].astype('int32')\n",
    "df1['SCHEDULE_DEP']  = df1['SCHEDULE_DEP'].astype(str)\n",
    "df1['SCHEDULE_DEP'] = df1['SCHEDULE_DEP'].apply(get_time_in_min)\n",
    "df1['SCHEDULE_DEP'] = df1['SCHEDULE_DEP'] - df1['DEP_DELAY']\n",
    "df1['SCHEDULE_DEP'] = df1['SCHEDULE_DEP'].apply(check_for_negative)\n",
    "df1['SCHEDULE_DEP'] = df1['SCHEDULE_DEP'].apply(get_hour_from_min)\n",
    "\n",
    "df1['SCHEDULE_ARR']  = df1['ARR_TIME'].astype('int32')\n",
    "df1['SCHEDULE_ARR']  = df1['SCHEDULE_ARR'].astype(str)\n",
    "df1['SCHEDULE_ARR'] = df1['SCHEDULE_ARR'].apply(get_time_in_min)\n",
    "df1['SCHEDULE_ARR'] = df1['SCHEDULE_ARR'] - df1['ARR_DELAY']\n",
    "df1['SCHEDULE_ARR'] = df1['SCHEDULE_ARR'].apply(check_for_negative)\n",
    "df1['SCHEDULE_ARR'] = df1['SCHEDULE_ARR'].apply(get_hour_from_min)\n",
    "\n",
    "df2['SCHEDULE_DEP']  = df2['DEP_TIME'].astype('int32')\n",
    "df2['SCHEDULE_DEP']  = df2['SCHEDULE_DEP'].astype(str)\n",
    "df2['SCHEDULE_DEP'] = df2['SCHEDULE_DEP'].apply(get_time_in_min)\n",
    "df2['SCHEDULE_DEP'] = df2['SCHEDULE_DEP'] - df2['DEP_DELAY']\n",
    "df2['SCHEDULE_DEP'] = df2['SCHEDULE_DEP'].apply(check_for_negative)\n",
    "df2['SCHEDULE_DEP'] = df2['SCHEDULE_DEP'].apply(get_hour_from_min)\n",
    "\n",
    "df2['SCHEDULE_ARR']  = df2['ARR_TIME'].astype('int32')\n",
    "df2['SCHEDULE_ARR']  = df2['SCHEDULE_ARR'].astype(str)\n",
    "df2['SCHEDULE_ARR'] = df2['SCHEDULE_ARR'].apply(get_time_in_min)\n",
    "df2['SCHEDULE_ARR'] = df2['SCHEDULE_ARR'] - df2['ARR_DELAY']\n",
    "df2['SCHEDULE_ARR'] = df2['SCHEDULE_ARR'].apply(check_for_negative)\n",
    "df2['SCHEDULE_ARR'] = df2['SCHEDULE_ARR'].apply(get_hour_from_min)"
   ]
  },
  {
   "cell_type": "code",
   "execution_count": null,
   "metadata": {},
   "outputs": [],
   "source": [
    "df1 = df1.drop(['YEAR', 'MONTH', 'DAY_OF_MONTH', 'CARRIER', 'FL_NUM',\n",
    "       'ORIGIN', 'ORIGIN_CITY_NAME', 'ORIGIN_STATE_NM', 'DEST',\n",
    "       'DEST_CITY_NAME', 'DEST_STATE_NM', 'DEP_TIME', 'ARR_TIME', 'CANCELLED', 'CANCELLATION_CODE', 'ACTUAL_ELAPSED_TIME',\n",
    "       'AIR_TIME', 'FLIGHTS', 'DISTANCE', 'CARRIER_DELAY', 'WEATHER_DELAY',\n",
    "       'NAS_DELAY', 'SECURITY_DELAY', 'LATE_AIRCRAFT_DELAY', 'CARRIER_NAME'], axis = 1)"
   ]
  },
  {
   "cell_type": "code",
   "execution_count": 66,
   "metadata": {},
   "outputs": [],
   "source": [
    "df3 = pd.merge(df1, df2, on=['FL_DATE'])"
   ]
  },
  {
   "cell_type": "code",
   "execution_count": 67,
   "metadata": {},
   "outputs": [],
   "source": [
    "temp = df3.groupby(['FL_DATE'])[['ARR_DELAY_x', 'DEP_DELAY_y']].mean().reset_index()"
   ]
  },
  {
   "cell_type": "code",
   "execution_count": 68,
   "metadata": {},
   "outputs": [],
   "source": [
    "try1 = (temp['ARR_DELAY_x'] - temp['ARR_DELAY_x'].mean()) / temp['ARR_DELAY_x'].std()\n",
    "try2 = (temp['DEP_DELAY_y'] - temp['DEP_DELAY_y'].mean()) / temp['DEP_DELAY_y'].std()"
   ]
  },
  {
   "cell_type": "code",
   "execution_count": 69,
   "metadata": {},
   "outputs": [
    {
     "name": "stdout",
     "output_type": "stream",
     "text": [
      "Critical value: 0.14\n",
      "Ks_2sampResult(statistic=0.092896174863388, pvalue=0.391599447832356)\n"
     ]
    }
   ],
   "source": [
    "print('Critical value: 0.14')\n",
    "print(ks_2samp(try1, try2))"
   ]
  },
  {
   "cell_type": "markdown",
   "metadata": {},
   "source": [
    "### Hypothesis 2 :A disruption in operations of a certain airline causes carrier  \t     delays over certain period of time\n"
   ]
  },
  {
   "cell_type": "code",
   "execution_count": 49,
   "metadata": {},
   "outputs": [],
   "source": [
    "data = pd.read_csv('flight_delay_prediction/Data/flight_delays_2016.csv', delimiter = ',')"
   ]
  },
  {
   "cell_type": "code",
   "execution_count": 50,
   "metadata": {},
   "outputs": [],
   "source": [
    "hypo1_data = data.groupby(['MONTH','CARRIER_NAME'])['CARRIER_DELAY'].mean().reset_index()"
   ]
  },
  {
   "cell_type": "code",
   "execution_count": 51,
   "metadata": {},
   "outputs": [
    {
     "data": {
      "image/png": "[encoded data removed]",
      "text/plain": [
       "<matplotlib.figure.Figure at 0x1a50bf1940>"
      ]
     },
     "metadata": {},
     "output_type": "display_data"
    }
   ],
   "source": [
    "cols = hypo1_data.CARRIER_NAME.unique()\n",
    "cols = list(cols)\n",
    "months =['Jan', 'Feb', 'march','Apr','May','June', 'July','Aug','Sep', 'Oct','Nov','Dec']\n",
    "for i in range(len(cols)):\n",
    "    airline_month_data = hypo1_data[hypo1_data.CARRIER_NAME == cols[i]]\n",
    "    plt.plot(airline_month_data.MONTH, airline_month_data.CARRIER_DELAY)\n",
    "    plt.xticks(airline_month_data.MONTH, months, rotation=20)\n",
    "plt.legend(cols, loc= 'lower right', bbox_to_anchor=(1, 1))\n",
    "plt.xlabel('months')\n",
    "plt.ylabel('carrier delay mean')\n",
    "plt.show()"
   ]
  },
  {
   "cell_type": "code",
   "execution_count": 6,
   "metadata": {},
   "outputs": [],
   "source": [
    "### Testing this using a wald's test hypothesis\n",
    "aug_data = data.loc[(data['MONTH'] == 8) & (data['CARRIER_NAME'] == 'Delta Airlines')].reset_index(drop=True)\n",
    "yearly_data = data.loc[(data['CARRIER_NAME'] == 'Delta Airlines')].reset_index(drop=True)"
   ]
  },
  {
   "cell_type": "code",
   "execution_count": 7,
   "metadata": {},
   "outputs": [],
   "source": [
    "## distribution of mean delay every day in august for delta airlines\n",
    "#distribution_1 = month aug\n",
    "#distribution_2 = yearly\n",
    "distribution_1 = aug_data.groupby(['DAY_OF_MONTH'])['CARRIER_DELAY'].mean().reset_index()\n",
    "distribution_2 = yearly_data.groupby(['DAY_OF_MONTH'])['CARRIER_DELAY'].mean().reset_index()"
   ]
  },
  {
   "cell_type": "code",
   "execution_count": 8,
   "metadata": {},
   "outputs": [],
   "source": [
    "# August month\n",
    "mean1 = np.mean(distribution_1['CARRIER_DELAY'])\n",
    "var1 = np.var(distribution_1['CARRIER_DELAY'])\n",
    "\n",
    "# All year \n",
    "mean2 = np.mean(distribution_2['CARRIER_DELAY'])\n",
    "var2 = np.var(distribution_2['CARRIER_DELAY'])"
   ]
  },
  {
   "cell_type": "markdown",
   "metadata": {},
   "source": [
    "Null hypothesis is that mean delay each day in delta airlines in august is equal to the mean delay each day in 2016 <br>\n",
    "Alt hypothesis- delta airlines mean delay in august > whole year mean delay every day"
   ]
  },
  {
   "cell_type": "code",
   "execution_count": 12,
   "metadata": {},
   "outputs": [
    {
     "name": "stdout",
     "output_type": "stream",
     "text": [
      "Critical value for upper tailed on 95% confidence interval is : 1.645\n",
      "Wald test value 1.8889731103861525\n",
      "So, we reject the null hypothesis\n"
     ]
    }
   ],
   "source": [
    "## Applying wald test\n",
    "print (\"Critical value for upper tailed on 95% confidence interval is :\", 1.645)\n",
    "wald_value = findWaldtest(mean1, mean2,var1, var2, 31 , 31)\n",
    "print (\"Wald test value\",wald_value)\n",
    "\n",
    "print (\"So, we reject the null hypothesis\")"
   ]
  },
  {
   "cell_type": "markdown",
   "metadata": {},
   "source": [
    "### Hypothesis 3: Nearby airports will be affected due to delay at a certain airport."
   ]
  },
  {
   "cell_type": "code",
   "execution_count": 14,
   "metadata": {},
   "outputs": [],
   "source": [
    "data_4 = pd.read_csv('flight_delay_prediction/Data/flight_delays_2016.csv', delimiter=',')\n",
    "data_4 = data_4.drop(['Unnamed: 0'], axis =1)\n",
    "data_4 = data_4.loc[data_4.DEP_DELAY > 0]"
   ]
  },
  {
   "cell_type": "markdown",
   "metadata": {},
   "source": [
    "##### Airports in California"
   ]
  },
  {
   "cell_type": "code",
   "execution_count": 16,
   "metadata": {},
   "outputs": [
    {
     "data": {
      "text/html": [
       "<div>\n",
       "<style scoped>\n",
       "    .dataframe tbody tr th:only-of-type {\n",
       "        vertical-align: middle;\n",
       "    }\n",
       "\n",
       "    .dataframe tbody tr th {\n",
       "        vertical-align: top;\n",
       "    }\n",
       "\n",
       "    .dataframe thead th {\n",
       "        text-align: right;\n",
       "    }\n",
       "</style>\n",
       "<table border=\"1\" class=\"dataframe\">\n",
       "  <thead>\n",
       "    <tr style=\"text-align: right;\">\n",
       "      <th></th>\n",
       "      <th>YEAR</th>\n",
       "      <th>MONTH</th>\n",
       "      <th>DAY_OF_MONTH</th>\n",
       "      <th>FL_DATE</th>\n",
       "      <th>CARRIER</th>\n",
       "      <th>FL_NUM</th>\n",
       "      <th>ORIGIN</th>\n",
       "      <th>ORIGIN_CITY_NAME</th>\n",
       "      <th>ORIGIN_STATE_NM</th>\n",
       "      <th>DEST</th>\n",
       "      <th>...</th>\n",
       "      <th>CANCELLATION_CODE</th>\n",
       "      <th>ACTUAL_ELAPSED_TIME</th>\n",
       "      <th>AIR_TIME</th>\n",
       "      <th>DISTANCE</th>\n",
       "      <th>CARRIER_DELAY</th>\n",
       "      <th>WEATHER_DELAY</th>\n",
       "      <th>NAS_DELAY</th>\n",
       "      <th>SECURITY_DELAY</th>\n",
       "      <th>LATE_AIRCRAFT_DELAY</th>\n",
       "      <th>CARRIER_NAME</th>\n",
       "    </tr>\n",
       "  </thead>\n",
       "  <tbody>\n",
       "    <tr>\n",
       "      <th>73</th>\n",
       "      <td>2016</td>\n",
       "      <td>1</td>\n",
       "      <td>2</td>\n",
       "      <td>2016-01-02</td>\n",
       "      <td>DL</td>\n",
       "      <td>2191</td>\n",
       "      <td>LAX</td>\n",
       "      <td>Los Angeles, CA</td>\n",
       "      <td>California</td>\n",
       "      <td>PDX</td>\n",
       "      <td>...</td>\n",
       "      <td>0.0</td>\n",
       "      <td>140.0</td>\n",
       "      <td>113.0</td>\n",
       "      <td>834.0</td>\n",
       "      <td>1.0</td>\n",
       "      <td>0.0</td>\n",
       "      <td>0.0</td>\n",
       "      <td>0.0</td>\n",
       "      <td>17.0</td>\n",
       "      <td>Delta Airlines</td>\n",
       "    </tr>\n",
       "    <tr>\n",
       "      <th>76</th>\n",
       "      <td>2016</td>\n",
       "      <td>1</td>\n",
       "      <td>2</td>\n",
       "      <td>2016-01-02</td>\n",
       "      <td>DL</td>\n",
       "      <td>2204</td>\n",
       "      <td>LAX</td>\n",
       "      <td>Los Angeles, CA</td>\n",
       "      <td>California</td>\n",
       "      <td>SLC</td>\n",
       "      <td>...</td>\n",
       "      <td>0.0</td>\n",
       "      <td>103.0</td>\n",
       "      <td>78.0</td>\n",
       "      <td>590.0</td>\n",
       "      <td>19.0</td>\n",
       "      <td>0.0</td>\n",
       "      <td>0.0</td>\n",
       "      <td>0.0</td>\n",
       "      <td>0.0</td>\n",
       "      <td>Delta Airlines</td>\n",
       "    </tr>\n",
       "    <tr>\n",
       "      <th>96</th>\n",
       "      <td>2016</td>\n",
       "      <td>1</td>\n",
       "      <td>2</td>\n",
       "      <td>2016-01-02</td>\n",
       "      <td>DL</td>\n",
       "      <td>2377</td>\n",
       "      <td>LAX</td>\n",
       "      <td>Los Angeles, CA</td>\n",
       "      <td>California</td>\n",
       "      <td>SLC</td>\n",
       "      <td>...</td>\n",
       "      <td>0.0</td>\n",
       "      <td>119.0</td>\n",
       "      <td>94.0</td>\n",
       "      <td>590.0</td>\n",
       "      <td>11.0</td>\n",
       "      <td>0.0</td>\n",
       "      <td>5.0</td>\n",
       "      <td>0.0</td>\n",
       "      <td>0.0</td>\n",
       "      <td>Delta Airlines</td>\n",
       "    </tr>\n",
       "  </tbody>\n",
       "</table>\n",
       "<p>3 rows × 27 columns</p>\n",
       "</div>"
      ],
      "text/plain": [
       "    YEAR  MONTH  DAY_OF_MONTH     FL_DATE CARRIER  FL_NUM ORIGIN  \\\n",
       "73  2016      1             2  2016-01-02      DL    2191    LAX   \n",
       "76  2016      1             2  2016-01-02      DL    2204    LAX   \n",
       "96  2016      1             2  2016-01-02      DL    2377    LAX   \n",
       "\n",
       "   ORIGIN_CITY_NAME ORIGIN_STATE_NM DEST       ...       CANCELLATION_CODE  \\\n",
       "73  Los Angeles, CA      California  PDX       ...                     0.0   \n",
       "76  Los Angeles, CA      California  SLC       ...                     0.0   \n",
       "96  Los Angeles, CA      California  SLC       ...                     0.0   \n",
       "\n",
       "   ACTUAL_ELAPSED_TIME  AIR_TIME  DISTANCE  CARRIER_DELAY  WEATHER_DELAY  \\\n",
       "73               140.0     113.0     834.0            1.0            0.0   \n",
       "76               103.0      78.0     590.0           19.0            0.0   \n",
       "96               119.0      94.0     590.0           11.0            0.0   \n",
       "\n",
       "    NAS_DELAY SECURITY_DELAY  LATE_AIRCRAFT_DELAY    CARRIER_NAME  \n",
       "73        0.0            0.0                 17.0  Delta Airlines  \n",
       "76        0.0            0.0                  0.0  Delta Airlines  \n",
       "96        5.0            0.0                  0.0  Delta Airlines  \n",
       "\n",
       "[3 rows x 27 columns]"
      ]
     },
     "execution_count": 16,
     "metadata": {},
     "output_type": "execute_result"
    }
   ],
   "source": [
    "## Airorts in California\n",
    "airports = ['LAX','SJC','PSP','SNA']\n",
    "data_4 = data_4.loc[data_4.ORIGIN.isin(airports)]\n",
    "data_4.head(3)"
   ]
  },
  {
   "cell_type": "code",
   "execution_count": 17,
   "metadata": {},
   "outputs": [],
   "source": [
    "LAX_data = data_4.loc[data_4.ORIGIN == 'LAX'].reset_index(drop=True)\n",
    "SJC_data = data_4.loc[data_4.ORIGIN == 'SJC'].reset_index(drop=True)\n",
    "PSP_data = data_4.loc[data_4.ORIGIN == 'PSP'].reset_index(drop=True)\n",
    "SNA_data = data_4.loc[data_4.ORIGIN == 'SNA'].reset_index(drop=True)"
   ]
  },
  {
   "cell_type": "code",
   "execution_count": 21,
   "metadata": {},
   "outputs": [],
   "source": [
    "LAX_delay = LAX_data.groupby(['FL_DATE'])['DEP_DELAY'].mean().reset_index()\n",
    "SJC_delay = SJC_data.groupby(['FL_DATE'])['DEP_DELAY'].mean().reset_index()\n",
    "PSP_delay = PSP_data.groupby(['FL_DATE'])['DEP_DELAY'].mean().reset_index()\n",
    "SNA_delay = SNA_data.groupby(['FL_DATE'])['DEP_DELAY'].mean().reset_index()\n",
    "LAX_delay['FL_DATE'] = pd.to_datetime(LAX_delay['FL_DATE'])\n",
    "SJC_delay['FL_DATE'] = pd.to_datetime(SJC_delay['FL_DATE'])\n",
    "PSP_delay['FL_DATE'] = pd.to_datetime(PSP_delay['FL_DATE'])\n",
    "SNA_delay['FL_DATE'] = pd.to_datetime(SNA_delay['FL_DATE'])"
   ]
  },
  {
   "cell_type": "code",
   "execution_count": 26,
   "metadata": {},
   "outputs": [
    {
     "name": "stdout",
     "output_type": "stream",
     "text": [
      "Ks_2sampResult(statistic=0.3333333333333333, pvalue=2.0117298394300446e-18)\n",
      "Critical value : 0.0709890242035841\n",
      "So we will reject the null hypothesis that the delays are same\n"
     ]
    }
   ],
   "source": [
    "## LAX vs SJC\n",
    "LAX_delay_list, SJC_delay_list = getCommonDates(LAX_delay,SJC_delay)\n",
    "print (ks_2samp(LAX_delay_list, SJC_delay_list))\n",
    "print (\"Critical value :\", 1.3581/ np.sqrt(len(SJC_delay_list)))\n",
    "print (\"So we will reject the null hypothesis that the delays are same\")"
   ]
  },
  {
   "cell_type": "code",
   "execution_count": 27,
   "metadata": {},
   "outputs": [
    {
     "name": "stdout",
     "output_type": "stream",
     "text": [
      "Ks_2sampResult(statistic=0.3797814207650274, pvalue=8.678216492709886e-24)\n",
      "Critical value : 0.0709890242035841\n",
      "So we will reject the null hypothesis that the delays are same\n"
     ]
    }
   ],
   "source": [
    "## LAX vs PSP\n",
    "LAX_delay_list, PSP_delay_list = getCommonDates(LAX_delay,PSP_delay)\n",
    "print (ks_2samp(LAX_delay_list, PSP_delay_list))\n",
    "print (\"Critical value :\", 1.3581/ np.sqrt(len(PSP_delay_list)))\n",
    "print (\"So we will reject the null hypothesis that the delays are same\")"
   ]
  },
  {
   "cell_type": "code",
   "execution_count": 28,
   "metadata": {},
   "outputs": [
    {
     "name": "stdout",
     "output_type": "stream",
     "text": [
      "Ks_2sampResult(statistic=0.2622950819672131, pvalue=1.4361886856463595e-11)\n",
      "Critical value : 0.0709890242035841\n",
      "So we will reject the null hypothesis that the delays are same\n"
     ]
    }
   ],
   "source": [
    "## LAX vs SNA\n",
    "LAX_delay_list, SNA_delay_list = getCommonDates(LAX_delay,SNA_delay)\n",
    "print (ks_2samp(LAX_delay_list, SNA_delay_list))\n",
    "print (\"Critical value :\", 1.3581/ np.sqrt(len(SNA_delay_list)))\n",
    "print (\"So we will reject the null hypothesis that the delays are same\")"
   ]
  },
  {
   "cell_type": "code",
   "execution_count": 29,
   "metadata": {},
   "outputs": [
    {
     "name": "stdout",
     "output_type": "stream",
     "text": [
      "Ks_2sampResult(statistic=0.3579234972677596, pvalue=3.550282729584291e-21)\n",
      "Critical value : 0.0709890242035841\n",
      "So we will reject the null hypothesis that the delays are same\n"
     ]
    }
   ],
   "source": [
    "## SJC vs PSP\n",
    "SJC_delay_list, PSP_delay_list = getCommonDates(SJC_delay,PSP_delay)\n",
    "print (ks_2samp(SJC_delay_list, PSP_delay_list))\n",
    "print (\"Critical value :\", 1.3581/ np.sqrt(len(PSP_delay_list)))\n",
    "print (\"So we will reject the null hypothesis that the delays are same\")"
   ]
  },
  {
   "cell_type": "code",
   "execution_count": 30,
   "metadata": {},
   "outputs": [
    {
     "name": "stdout",
     "output_type": "stream",
     "text": [
      "Ks_2sampResult(statistic=0.09562841530054644, pvalue=0.06603387554806275)\n",
      "Critical value : 0.0709890242035841\n",
      "So we will reject the null hypothesis that the delays are same\n"
     ]
    }
   ],
   "source": [
    "## SJC vs SNA\n",
    "SJC_delay_list, SNA_delay_list = getCommonDates(SJC_delay,SNA_delay)\n",
    "print (ks_2samp(SJC_delay_list, SNA_delay_list))\n",
    "print (\"Critical value :\", 1.3581/ np.sqrt(len(SJC_delay_list)))\n",
    "print (\"So we will reject the null hypothesis that the delays are same\")"
   ]
  },
  {
   "cell_type": "code",
   "execution_count": 31,
   "metadata": {},
   "outputs": [
    {
     "name": "stdout",
     "output_type": "stream",
     "text": [
      "Ks_2sampResult(statistic=0.32513661202185795, pvalue=1.5059412266856156e-17)\n",
      "Critical value : 0.0709890242035841\n",
      "So we will reject the null hypothesis that the delays are same\n"
     ]
    }
   ],
   "source": [
    "## PSP vs SNA\n",
    "PSP_delay_list, SNA_delay_list = getCommonDates(PSP_delay,SNA_delay)\n",
    "print (ks_2samp(PSP_delay_list, SNA_delay_list))\n",
    "print (\"Critical value :\", 1.3581/ np.sqrt(len(PSP_delay_list)))\n",
    "print (\"So we will reject the null hypothesis that the delays are same\")"
   ]
  }
 ],
 "metadata": {
  "kernelspec": {
   "display_name": "Python [conda env:anaconda3]",
   "language": "python",
   "name": "conda-env-anaconda3-py"
  },
  "language_info": {
   "codemirror_mode": {
    "name": "ipython",
    "version": 3
   },
   "file_extension": ".py",
   "mimetype": "text/x-python",
   "name": "python",
   "nbconvert_exporter": "python",
   "pygments_lexer": "ipython3",
   "version": "3.6.4"
  }
 },
 "nbformat": 4,
 "nbformat_minor": 2
}
