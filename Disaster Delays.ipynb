{
 "cells": [
  {
   "cell_type": "markdown",
   "metadata": {},
   "source": [
    "As the intensity of disasters increases, the delay/cancellations also increases."
   ]
  },
  {
   "cell_type": "code",
   "execution_count": 1407,
   "metadata": {},
   "outputs": [],
   "source": [
    "import pandas as pd\n",
    "import numpy as np"
   ]
  },
  {
   "cell_type": "code",
   "execution_count": 1408,
   "metadata": {},
   "outputs": [],
   "source": [
    "data = pd.read_csv('flight_delays_2016.csv','r', delimiter=',')"
   ]
  },
  {
   "cell_type": "code",
   "execution_count": 1409,
   "metadata": {},
   "outputs": [],
   "source": [
    "data = data.drop(['Unnamed: 0'], axis = 1)"
   ]
  },
  {
   "cell_type": "markdown",
   "metadata": {},
   "source": [
    "2016 American Northeast heat wave https://en.wikipedia.org/wiki/2016_American_Northeast_heat_wave"
   ]
  },
  {
   "cell_type": "code",
   "execution_count": 1410,
   "metadata": {},
   "outputs": [],
   "source": [
    "x_heat_wave = data.loc[(data['MONTH']==8) & (data['DAY_OF_MONTH']>=8) & (data['DAY_OF_MONTH']<12) &\n",
    "        (data['ORIGIN_STATE_NM']=='New York') & (data['CANCELLATION_CODE']=='0.0')]"
   ]
  },
  {
   "cell_type": "code",
   "execution_count": 1411,
   "metadata": {},
   "outputs": [],
   "source": [
    "xx_heat_wave = x_heat_wave.groupby(['DAY_OF_MONTH'])['DEP_DELAY'].mean()"
   ]
  },
  {
   "cell_type": "code",
   "execution_count": 1412,
   "metadata": {},
   "outputs": [],
   "source": [
    "l_heat_wave = []\n",
    "for i,val in xx_heat_wave.iteritems():\n",
    "    l_heat_wave.append(val)\n",
    "v_heat_wave = np.var(l_heat_wave)"
   ]
  },
  {
   "cell_type": "code",
   "execution_count": 1413,
   "metadata": {
    "scrolled": true
   },
   "outputs": [],
   "source": [
    "m_heat_wave = x_heat_wave['DEP_DELAY'].mean()"
   ]
  },
  {
   "cell_type": "code",
   "execution_count": 1414,
   "metadata": {},
   "outputs": [],
   "source": [
    "x_total_heat_wave = data.loc[(data['ORIGIN_STATE_NM']=='New York') & (data['CANCELLATION_CODE']=='0.0')]"
   ]
  },
  {
   "cell_type": "code",
   "execution_count": 1415,
   "metadata": {},
   "outputs": [],
   "source": [
    "xx_total_heat_wave = x_total_heat_wave.groupby(['DAY_OF_MONTH'])['DEP_DELAY'].mean()"
   ]
  },
  {
   "cell_type": "code",
   "execution_count": 1416,
   "metadata": {},
   "outputs": [],
   "source": [
    "l_total_heat_wave = []\n",
    "for i,val in xx_total_heat_wave.iteritems():\n",
    "    l_total_heat_wave.append(val)\n",
    "v_total_heat_wave = np.var(l_total_heat_wave)"
   ]
  },
  {
   "cell_type": "code",
   "execution_count": 1417,
   "metadata": {},
   "outputs": [],
   "source": [
    "m_total_heat_wave = x_total_heat_wave['DEP_DELAY'].mean()"
   ]
  },
  {
   "cell_type": "code",
   "execution_count": 1418,
   "metadata": {},
   "outputs": [],
   "source": [
    "import math as m\n",
    "def wald(m1,m2,v1,v2):\n",
    "    wald_statistic = (abs(m1-m2))/(m.sqrt((v1/31) + (v2/31)))\n",
    "    return wald_statistic"
   ]
  },
  {
   "cell_type": "code",
   "execution_count": 1419,
   "metadata": {},
   "outputs": [
    {
     "data": {
      "text/plain": [
       "13.373086498699436"
      ]
     },
     "execution_count": 1419,
     "metadata": {},
     "output_type": "execute_result"
    }
   ],
   "source": [
    "wald(m_heat_wave,m_total_heat_wave,v_heat_wave,v_total_heat_wave)"
   ]
  },
  {
   "cell_type": "markdown",
   "metadata": {},
   "source": [
    "2016 United States Blizzard. Comparing the cancellations across affected regions\n",
    "https://en.wikipedia.org/wiki/January_2016_United_States_blizzard"
   ]
  },
  {
   "cell_type": "code",
   "execution_count": 1420,
   "metadata": {},
   "outputs": [],
   "source": [
    "x_blizzard = data.loc[(data['MONTH']==1) & (data['DAY_OF_MONTH']>=22) & (data['DAY_OF_MONTH']<=25) &\n",
    "        ((data['ORIGIN_STATE_NM']=='New York') | (data['ORIGIN_STATE_NM']=='Maryland') | \n",
    "        (data['ORIGIN_STATE_NM']=='Massachusetts') | (data['ORIGIN_STATE_NM']=='Connecticut') |\n",
    "        (data['ORIGIN_STATE_NM']=='New Jersey') | (data['ORIGIN_STATE_NM']=='Pennsylvania') | \n",
    "        (data['ORIGIN_STATE_NM']=='Virginia'))]"
   ]
  },
  {
   "cell_type": "code",
   "execution_count": 1421,
   "metadata": {},
   "outputs": [
    {
     "name": "stderr",
     "output_type": "stream",
     "text": [
      "/anaconda3/lib/python3.6/site-packages/ipykernel_launcher.py:2: SettingWithCopyWarning: \n",
      "A value is trying to be set on a copy of a slice from a DataFrame.\n",
      "Try using .loc[row_indexer,col_indexer] = value instead\n",
      "\n",
      "See the caveats in the documentation: http://pandas.pydata.org/pandas-docs/stable/indexing.html#indexing-view-versus-copy\n",
      "  \n"
     ]
    }
   ],
   "source": [
    "y_blizzard = x_blizzard.loc[x_blizzard['CANCELLATION_CODE']!='0.0']\n",
    "y_blizzard['NF'] = np.nan\n",
    "y_blizzard = y_blizzard.fillna(1)\n",
    "xx_blizzard = y_blizzard.groupby(['DAY_OF_MONTH'])['NF'].sum()"
   ]
  },
  {
   "cell_type": "code",
   "execution_count": 1422,
   "metadata": {},
   "outputs": [],
   "source": [
    "l_blizzard = []\n",
    "for i,val in xx_blizzard.iteritems():\n",
    "    l_blizzard.append(val)\n",
    "v_blizzard = np.var(l_blizzard)"
   ]
  },
  {
   "cell_type": "code",
   "execution_count": 1423,
   "metadata": {},
   "outputs": [],
   "source": [
    "m_blizzard = len(y_blizzard.index)/4"
   ]
  },
  {
   "cell_type": "code",
   "execution_count": 1424,
   "metadata": {},
   "outputs": [],
   "source": [
    "x_total_blizzard = data.loc[((data['ORIGIN_STATE_NM']=='New York') | (data['ORIGIN_STATE_NM']=='Maryland') | \n",
    "        (data['ORIGIN_STATE_NM']=='Massachusetts') | (data['ORIGIN_STATE_NM']=='Connecticut') |\n",
    "        (data['ORIGIN_STATE_NM']=='New Jersey') | (data['ORIGIN_STATE_NM']=='Pennsylvania') | \n",
    "        (data['ORIGIN_STATE_NM']=='Virginia'))]"
   ]
  },
  {
   "cell_type": "code",
   "execution_count": 1425,
   "metadata": {},
   "outputs": [],
   "source": [
    "y_total_blizzard = x_total_blizzard.loc[x_total_blizzard['CANCELLATION_CODE']!='0.0']"
   ]
  },
  {
   "cell_type": "code",
   "execution_count": 1426,
   "metadata": {},
   "outputs": [
    {
     "name": "stderr",
     "output_type": "stream",
     "text": [
      "/anaconda3/lib/python3.6/site-packages/ipykernel_launcher.py:1: SettingWithCopyWarning: \n",
      "A value is trying to be set on a copy of a slice from a DataFrame.\n",
      "Try using .loc[row_indexer,col_indexer] = value instead\n",
      "\n",
      "See the caveats in the documentation: http://pandas.pydata.org/pandas-docs/stable/indexing.html#indexing-view-versus-copy\n",
      "  \"\"\"Entry point for launching an IPython kernel.\n"
     ]
    }
   ],
   "source": [
    "y_total_blizzard['NF'] = np.nan\n",
    "y_total_blizzard = y_total_blizzard.fillna(1)\n",
    "xx_total_blizzard = y_total_blizzard.groupby(['DAY_OF_MONTH'])['NF'].sum()"
   ]
  },
  {
   "cell_type": "code",
   "execution_count": 1427,
   "metadata": {},
   "outputs": [],
   "source": [
    "m_total_blizzard = len(y_total_blizzard.index)/365"
   ]
  },
  {
   "cell_type": "code",
   "execution_count": 1428,
   "metadata": {},
   "outputs": [],
   "source": [
    "l_total_blizzard = []\n",
    "for i,val in xx_total_blizzard.iteritems():\n",
    "    l_total_blizzard.append(val)\n",
    "v_total_blizzard = np.var(l_total_blizzard)"
   ]
  },
  {
   "cell_type": "code",
   "execution_count": 1429,
   "metadata": {},
   "outputs": [
    {
     "data": {
      "text/plain": [
       "9.204163267404565"
      ]
     },
     "execution_count": 1429,
     "metadata": {},
     "output_type": "execute_result"
    }
   ],
   "source": [
    "wald(m_blizzard,m_total_blizzard,v_blizzard,v_total_blizzard)"
   ]
  },
  {
   "cell_type": "markdown",
   "metadata": {},
   "source": [
    "2016 Hurricane Matthew"
   ]
  },
  {
   "cell_type": "code",
   "execution_count": 1430,
   "metadata": {},
   "outputs": [],
   "source": [
    "x_hurricane = data.loc[(data['MONTH']==10) & (data['DAY_OF_MONTH']>=1) & (data['DAY_OF_MONTH']<=9) &\n",
    "        ((data['ORIGIN_STATE_NM']=='Florida') | (data['ORIGIN_STATE_NM']=='North Carolina'))]"
   ]
  },
  {
   "cell_type": "code",
   "execution_count": 1431,
   "metadata": {},
   "outputs": [
    {
     "name": "stderr",
     "output_type": "stream",
     "text": [
      "/anaconda3/lib/python3.6/site-packages/ipykernel_launcher.py:2: SettingWithCopyWarning: \n",
      "A value is trying to be set on a copy of a slice from a DataFrame.\n",
      "Try using .loc[row_indexer,col_indexer] = value instead\n",
      "\n",
      "See the caveats in the documentation: http://pandas.pydata.org/pandas-docs/stable/indexing.html#indexing-view-versus-copy\n",
      "  \n"
     ]
    }
   ],
   "source": [
    "y_hurricane = x_hurricane.loc[x_hurricane['CANCELLATION_CODE']!='0.0']\n",
    "y_hurricane['NF'] = np.nan\n",
    "y_hurricane = y_hurricane.fillna(1)\n",
    "xx_hurricane = y_hurricane.groupby(['DAY_OF_MONTH'])['NF'].sum()\n",
    "l_hurricane = []\n",
    "for i,val in xx_hurricane.iteritems():\n",
    "    l_hurricane.append(val)\n",
    "v_hurricane = np.var(l_hurricane)"
   ]
  },
  {
   "cell_type": "code",
   "execution_count": 1432,
   "metadata": {},
   "outputs": [],
   "source": [
    "m_hurricane = len(y_hurricane.index)/9"
   ]
  },
  {
   "cell_type": "code",
   "execution_count": 1433,
   "metadata": {},
   "outputs": [],
   "source": [
    "x_total_hurricane = data.loc[((data['ORIGIN_STATE_NM']=='Florida') | (data['ORIGIN_STATE_NM']=='North Carolina'))]"
   ]
  },
  {
   "cell_type": "code",
   "execution_count": 1434,
   "metadata": {},
   "outputs": [
    {
     "name": "stderr",
     "output_type": "stream",
     "text": [
      "/anaconda3/lib/python3.6/site-packages/ipykernel_launcher.py:2: SettingWithCopyWarning: \n",
      "A value is trying to be set on a copy of a slice from a DataFrame.\n",
      "Try using .loc[row_indexer,col_indexer] = value instead\n",
      "\n",
      "See the caveats in the documentation: http://pandas.pydata.org/pandas-docs/stable/indexing.html#indexing-view-versus-copy\n",
      "  \n"
     ]
    }
   ],
   "source": [
    "y_total_hurricane = x_total_hurricane.loc[x_total_hurricane['CANCELLATION_CODE']!='0.0']\n",
    "y_total_hurricane['NF'] = np.nan\n",
    "y_total_hurricane = y_total_hurricane.fillna(1)\n",
    "xx_total_hurricane = y_total_hurricane.groupby(['DAY_OF_MONTH'])['NF'].sum()\n",
    "l_total_hurricane = []\n",
    "for i,val in xx_total_hurricane.iteritems():\n",
    "    l_total_hurricane.append(val)\n",
    "v_total_hurricane = np.var(l_total_hurricane)"
   ]
  },
  {
   "cell_type": "code",
   "execution_count": 1435,
   "metadata": {},
   "outputs": [],
   "source": [
    "m_total_hurricane = len(y_total_hurricane.index)/365"
   ]
  },
  {
   "cell_type": "code",
   "execution_count": 1436,
   "metadata": {},
   "outputs": [
    {
     "data": {
      "text/plain": [
       "2.334306561260812"
      ]
     },
     "execution_count": 1436,
     "metadata": {},
     "output_type": "execute_result"
    }
   ],
   "source": [
    "wald(m_hurricane,m_total_hurricane,v_hurricane,v_total_hurricane)"
   ]
  },
  {
   "cell_type": "markdown",
   "metadata": {},
   "source": [
    "2016 Louisiana Floods"
   ]
  },
  {
   "cell_type": "code",
   "execution_count": 1437,
   "metadata": {},
   "outputs": [],
   "source": [
    "x_flood = data.loc[(data['MONTH']==8) & (data['DAY_OF_MONTH']>=12) & (data['DAY_OF_MONTH']<=20) &\n",
    "        ((data['ORIGIN_STATE_NM']=='Louisiana'))]"
   ]
  },
  {
   "cell_type": "code",
   "execution_count": 1438,
   "metadata": {},
   "outputs": [
    {
     "name": "stderr",
     "output_type": "stream",
     "text": [
      "/anaconda3/lib/python3.6/site-packages/ipykernel_launcher.py:2: SettingWithCopyWarning: \n",
      "A value is trying to be set on a copy of a slice from a DataFrame.\n",
      "Try using .loc[row_indexer,col_indexer] = value instead\n",
      "\n",
      "See the caveats in the documentation: http://pandas.pydata.org/pandas-docs/stable/indexing.html#indexing-view-versus-copy\n",
      "  \n"
     ]
    }
   ],
   "source": [
    "y_flood = x_flood.loc[x_flood['CANCELLATION_CODE']!='0.0']\n",
    "y_flood['NF'] = np.nan\n",
    "y_flood = y_flood.fillna(1)\n",
    "xx_flood = y_flood.groupby(['DAY_OF_MONTH'])['NF'].sum()\n",
    "l_flood = []\n",
    "for i,val in xx_flood.iteritems():\n",
    "    l_flood.append(val)\n",
    "v_flood = np.var(l_flood)"
   ]
  },
  {
   "cell_type": "code",
   "execution_count": 1439,
   "metadata": {},
   "outputs": [],
   "source": [
    "m_flood = len(y_flood.index)/9"
   ]
  },
  {
   "cell_type": "code",
   "execution_count": 1440,
   "metadata": {},
   "outputs": [],
   "source": [
    "x_total_flood = data.loc[((data['ORIGIN_STATE_NM']=='Louisiana'))]"
   ]
  },
  {
   "cell_type": "code",
   "execution_count": 1441,
   "metadata": {},
   "outputs": [
    {
     "name": "stderr",
     "output_type": "stream",
     "text": [
      "/anaconda3/lib/python3.6/site-packages/ipykernel_launcher.py:2: SettingWithCopyWarning: \n",
      "A value is trying to be set on a copy of a slice from a DataFrame.\n",
      "Try using .loc[row_indexer,col_indexer] = value instead\n",
      "\n",
      "See the caveats in the documentation: http://pandas.pydata.org/pandas-docs/stable/indexing.html#indexing-view-versus-copy\n",
      "  \n"
     ]
    }
   ],
   "source": [
    "y_total_flood = x_total_flood.loc[x_total_flood['CANCELLATION_CODE']!='0.0']\n",
    "y_total_flood['NF'] = np.nan\n",
    "y_total_flood = y_total_flood.fillna(1)\n",
    "xx_total_flood = y_total_flood.groupby(['DAY_OF_MONTH'])['NF'].sum()\n",
    "l_total_flood = []\n",
    "for i,val in xx_total_flood.iteritems():\n",
    "    l_total_flood.append(val)\n",
    "v_total_flood = np.var(l_total_flood)"
   ]
  },
  {
   "cell_type": "code",
   "execution_count": 1442,
   "metadata": {},
   "outputs": [],
   "source": [
    "m_total_flood = len(y_total_flood.index)/365"
   ]
  },
  {
   "cell_type": "code",
   "execution_count": 1443,
   "metadata": {},
   "outputs": [
    {
     "data": {
      "text/plain": [
       "3.2710174136243504"
      ]
     },
     "execution_count": 1443,
     "metadata": {},
     "output_type": "execute_result"
    }
   ],
   "source": [
    "wald(m_flood,m_total_flood,v_flood,v_total_flood)"
   ]
  },
  {
   "cell_type": "markdown",
   "metadata": {},
   "source": [
    "2017 California Wildfires"
   ]
  },
  {
   "cell_type": "code",
   "execution_count": 1444,
   "metadata": {},
   "outputs": [],
   "source": [
    "data1 = pd.read_csv('flight_delays_2017.csv','r', delimiter=',')"
   ]
  },
  {
   "cell_type": "code",
   "execution_count": 1445,
   "metadata": {},
   "outputs": [],
   "source": [
    "x_wildfire = data1.loc[(data1['MONTH']==10) & (data1['DAY_OF_MONTH']>=11) & (data1['DAY_OF_MONTH']<=13) &\n",
    "        ((data1['ORIGIN']=='SFO')) & (data1['CANCELLATION_CODE']=='0')]"
   ]
  },
  {
   "cell_type": "code",
   "execution_count": 1446,
   "metadata": {},
   "outputs": [],
   "source": [
    "xx_wildfire = x_wildfire.groupby(['DAY_OF_MONTH'])['DEP_DELAY'].mean()"
   ]
  },
  {
   "cell_type": "code",
   "execution_count": 1447,
   "metadata": {},
   "outputs": [],
   "source": [
    "l_wildfire = []\n",
    "for i,val in xx_wildfire.iteritems():\n",
    "    l_wildfire.append(val)\n",
    "v_wildfire = np.var(l_wildfire)"
   ]
  },
  {
   "cell_type": "code",
   "execution_count": 1448,
   "metadata": {},
   "outputs": [],
   "source": [
    "m_wildfire = x_wildfire['DEP_DELAY'].mean()"
   ]
  },
  {
   "cell_type": "code",
   "execution_count": 1449,
   "metadata": {},
   "outputs": [],
   "source": [
    "y_total_wildfire = data1.loc[(data1['CANCELLATION_CODE']=='0') & ((data1['ORIGIN']=='SFO'))]"
   ]
  },
  {
   "cell_type": "code",
   "execution_count": 1450,
   "metadata": {},
   "outputs": [],
   "source": [
    "yy_total_wildfire = y_total_wildfire.groupby(['DAY_OF_MONTH'])['DEP_DELAY'].mean()"
   ]
  },
  {
   "cell_type": "code",
   "execution_count": 1451,
   "metadata": {},
   "outputs": [],
   "source": [
    "ll_total_wildfire = []\n",
    "for i,val in yy_total_wildfire.iteritems():\n",
    "    ll_total_wildfire.append(val)\n",
    "v_total_wildfire = np.var(ll_total_wildfire)"
   ]
  },
  {
   "cell_type": "code",
   "execution_count": 1452,
   "metadata": {},
   "outputs": [],
   "source": [
    "m_total_wildfire = y_total_wildfire['DEP_DELAY'].mean()"
   ]
  },
  {
   "cell_type": "code",
   "execution_count": 1453,
   "metadata": {},
   "outputs": [
    {
     "data": {
      "text/plain": [
       "32.78499114387056"
      ]
     },
     "execution_count": 1453,
     "metadata": {},
     "output_type": "execute_result"
    }
   ],
   "source": [
    "wald(m_wildfire,m_total_wildfire,v_wildfire,v_total_wildfire)"
   ]
  }
 ],
 "metadata": {
  "kernelspec": {
   "display_name": "Python 3",
   "language": "python",
   "name": "python3"
  },
  "language_info": {
   "codemirror_mode": {
    "name": "ipython",
    "version": 3
   },
   "file_extension": ".py",
   "mimetype": "text/x-python",
   "name": "python",
   "nbconvert_exporter": "python",
   "pygments_lexer": "ipython3",
   "version": "3.6.4"
  }
 },
 "nbformat": 4,
 "nbformat_minor": 2
}
