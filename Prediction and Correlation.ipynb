{
 "cells": [
  {
   "cell_type": "code",
   "execution_count": 2,
   "metadata": {},
   "outputs": [],
   "source": [
    "import datetime, scipy \n",
    "import pandas as pd\n",
    "import numpy as np\n",
    "import seaborn as sns\n",
    "import matplotlib as mpl\n",
    "import matplotlib.pyplot as plt\n",
    "import copy\n",
    "\n",
    "from sklearn import metrics, linear_model\n",
    "from sklearn.preprocessing import MinMaxScaler\n",
    "from sklearn.preprocessing import LabelEncoder, OneHotEncoder\n",
    "from scipy import sparse\n",
    "from sklearn.metrics import mean_absolute_error, accuracy_score"
   ]
  },
  {
   "cell_type": "markdown",
   "metadata": {},
   "source": [
    "## Topic 4. Prediction/Correlation\n"
   ]
  },
  {
   "cell_type": "markdown",
   "metadata": {},
   "source": [
    "### Hypothesis 1: Predicting departure delay for 4 quarters based on historic data(Linear Regression)"
   ]
  },
  {
   "cell_type": "code",
   "execution_count": 1634,
   "metadata": {},
   "outputs": [],
   "source": [
    "#2013 year\n",
    "df1 = pd.read_csv('./flight_delays_2013.csv', low_memory=False)\n",
    "df1 = df1[df1[\"DEP_DELAY\"] < 1440]\n",
    "df1 = df1[df1[\"ARR_DELAY\"] < 1440]\n",
    "#df1 = df1[(df1['MONTH'] >= 4) & (df1['MONTH'] <= 6)]\n",
    "df1 = df1[(df1['MONTH'] >=10) & (df1['MONTH'] <=12 )]"
   ]
  },
  {
   "cell_type": "code",
   "execution_count": 1635,
   "metadata": {},
   "outputs": [],
   "source": [
    "#2014 year\n",
    "df2 = pd.read_csv('./flight_delays_2014.csv', low_memory=False)\n",
    "df2 = df2[df2[\"DEP_DELAY\"] < 1440]\n",
    "df2 = df2[df2[\"ARR_DELAY\"] < 1440]\n",
    "df2 = df2[(df2['MONTH'] >= 10) & (df2['MONTH'] <= 12)]"
   ]
  },
  {
   "cell_type": "code",
   "execution_count": 1636,
   "metadata": {},
   "outputs": [],
   "source": [
    "\n",
    "# #2015 year\n",
    "df3 = pd.read_csv('./flight_delays_2015.csv', low_memory=False)\n",
    "df3 = df3[df3[\"DEP_DELAY\"] < 1440]\n",
    "df3 = df3[df3[\"ARR_DELAY\"] < 1440]\n",
    "df3 = df3[(df3['MONTH'] >= 10) & (df3['MONTH'] <= 12)]"
   ]
  },
  {
   "cell_type": "code",
   "execution_count": 1637,
   "metadata": {},
   "outputs": [],
   "source": [
    "# #2016 year\n",
    "df4 = pd.read_csv('./flight_delays_2016.csv', low_memory=False)\n",
    "df4 = df4.drop(['Unnamed: 0'], axis =1)\n",
    "df4 = df4[df4[\"DEP_DELAY\"] < 1440]\n",
    "df4 = df4[df4[\"ARR_DELAY\"] < 1440]\n",
    "df4 = df4[(df4['MONTH'] >= 10) & (df4['MONTH'] <= 12)]"
   ]
  },
  {
   "cell_type": "code",
   "execution_count": 1638,
   "metadata": {},
   "outputs": [],
   "source": [
    "# #2016 year\n",
    "df5 = pd.read_csv('./flight_delays_2017.csv', low_memory=False)\n",
    "df5 = df5[df5[\"DEP_DELAY\"] < 1440]\n",
    "df5 = df5[df5[\"ARR_DELAY\"] < 1440]\n",
    "df5 = df5[(df5['MONTH'] >= 10) & (df5['MONTH'] <= 12)]"
   ]
  },
  {
   "cell_type": "code",
   "execution_count": 1640,
   "metadata": {},
   "outputs": [],
   "source": [
    "def extractquarter1(x):\n",
    "    t = int(x.split('/')[1])/8\n",
    "    if  t<=1:\n",
    "        return 1\n",
    "    elif t<=2:\n",
    "        return 2\n",
    "    elif t<=3:\n",
    "        return 3\n",
    "    else:\n",
    "        return 4\n",
    "\n",
    "def extractquarter(x):\n",
    "    t = int(x.split('-')[2])/8\n",
    "    if  t<=1:\n",
    "        return 1\n",
    "    elif t<=2:\n",
    "        return 2\n",
    "    elif t<=3:\n",
    "        return 3\n",
    "    else:\n",
    "        return 4"
   ]
  },
  {
   "cell_type": "code",
   "execution_count": 1641,
   "metadata": {},
   "outputs": [],
   "source": [
    "df1[\"MONTH_QUARTER\"] = df1[\"FL_DATE\"].apply(extractquarter1)\n",
    "df2[\"MONTH_QUARTER\"] = df2[\"FL_DATE\"].apply(extractquarter1)\n",
    "df3[\"MONTH_QUARTER\"] = df3[\"FL_DATE\"].apply(extractquarter1)\n",
    "df4[\"MONTH_QUARTER\"] = df4[\"FL_DATE\"].apply(extractquarter)"
   ]
  },
  {
   "cell_type": "code",
   "execution_count": 1642,
   "metadata": {},
   "outputs": [],
   "source": [
    "def getWeekDay(df):\n",
    "    year, month, day = (int(x) for x in df['FL_DATE'].split('-'))    \n",
    "    answer = datetime.date(year, month, day).weekday()\n",
    "    return answer\n",
    "\n",
    "def getWeekDay1(df):\n",
    "    month, day, year= (int(x) for x in df['FL_DATE'].split('/'))    \n",
    "    answer = datetime.date(year, month, day).weekday()\n",
    "    return answer"
   ]
  },
  {
   "cell_type": "code",
   "execution_count": 1643,
   "metadata": {},
   "outputs": [],
   "source": [
    "df1['DAY_OF_WEEK'] = df1.apply(getWeekDay1,axis =1)\n",
    "df2['DAY_OF_WEEK'] = df2.apply(getWeekDay1,axis =1)\n",
    "df3['DAY_OF_WEEK'] = df3.apply(getWeekDay1,axis =1)\n",
    "df4['DAY_OF_WEEK'] = df4.apply(getWeekDay,axis =1)"
   ]
  },
  {
   "cell_type": "code",
   "execution_count": 1644,
   "metadata": {},
   "outputs": [],
   "source": [
    "df5['DAY_OF_WEEK'] = df5.apply(getWeekDay1,axis =1)"
   ]
  },
  {
   "cell_type": "code",
   "execution_count": 1645,
   "metadata": {},
   "outputs": [],
   "source": [
    "df = pd.concat([ df3, df4], axis = 0)"
   ]
  },
  {
   "cell_type": "code",
   "execution_count": 1646,
   "metadata": {},
   "outputs": [],
   "source": [
    "origin_airports = list(df['ORIGIN'].unique()) + list(df5['ORIGIN'].unique())\n",
    "dest_airports = list(df['DEST'].unique()) + list(df5['DEST'].unique())\n",
    "\n",
    "in_first = set(origin_airports)\n",
    "in_second = set(dest_airports)\n",
    "\n",
    "in_second_but_not_in_first = in_second - in_first\n",
    "result_airports = origin_airports + list(in_second_but_not_in_first)\n",
    "\n",
    "airline_carrier = list(df['CARRIER'].unique())"
   ]
  },
  {
   "cell_type": "code",
   "execution_count": 1647,
   "metadata": {},
   "outputs": [],
   "source": [
    "#Calcualte the schedule departure, departure time - departure delay\n",
    "def get_time_in_min(x):\n",
    "    val = x\n",
    "    if len(x) == 4:\n",
    "        pass\n",
    "    elif len(x) == 3:\n",
    "        val = '0' + val\n",
    "    elif len(x) == 2:\n",
    "        val = '00' + val\n",
    "    elif len(x) == 1:\n",
    "        val = '000'+ val\n",
    "    hours = int(val[:2])*60 \n",
    "    mins = int(val[2:])\n",
    "    return hours+mins\n",
    "\n",
    "def get_hour_from_min(x): \n",
    "    return int(x/60)\n",
    "\n",
    "\n",
    "def get_airport_id(x):\n",
    "    return result_airports.index(x)\n",
    "\n",
    "def get_airline_carrier_code(x):\n",
    "    return airline_carrier.index(x)\n",
    "\n",
    "def check_for_negative(x):\n",
    "    if x<0:\n",
    "        return x+1440\n",
    "    else:\n",
    "        return x"
   ]
  },
  {
   "cell_type": "code",
   "execution_count": 1648,
   "metadata": {},
   "outputs": [],
   "source": [
    "df['SCHEDULE_DEP']  = df['DEP_TIME'].astype('int32')\n",
    "df['SCHEDULE_DEP']  = df['SCHEDULE_DEP'].astype(str)\n",
    "df['SCHEDULE_DEP'] = df['SCHEDULE_DEP'].apply(get_time_in_min)\n",
    "df['SCHEDULE_DEP'] = df['SCHEDULE_DEP'] - df['DEP_DELAY']\n",
    "df['SCHEDULE_DEP'] = df['SCHEDULE_DEP'].apply(check_for_negative)\n",
    "df['SCHEDULE_DEP'] = df['SCHEDULE_DEP'].apply(get_hour_from_min)"
   ]
  },
  {
   "cell_type": "code",
   "execution_count": 1649,
   "metadata": {},
   "outputs": [],
   "source": [
    "df5['SCHEDULE_DEP']  = df5['DEP_TIME'].astype('int32')\n",
    "df5['SCHEDULE_DEP']  = df5['SCHEDULE_DEP'].astype(str)\n",
    "df5['SCHEDULE_DEP'] = df5['SCHEDULE_DEP'].apply(get_time_in_min)\n",
    "df5['SCHEDULE_DEP'] = df5['SCHEDULE_DEP'] - df5['DEP_DELAY']\n",
    "df5['SCHEDULE_DEP'] = df5['SCHEDULE_DEP'].apply(check_for_negative)\n",
    "df5['SCHEDULE_DEP'] = df5['SCHEDULE_DEP'].apply(get_hour_from_min)"
   ]
  },
  {
   "cell_type": "code",
   "execution_count": 1650,
   "metadata": {},
   "outputs": [],
   "source": [
    "df['SCHEDULE_ARR']  = df['ARR_TIME'].astype('int32')\n",
    "df['SCHEDULE_ARR']  = df['SCHEDULE_ARR'].astype(str)\n",
    "df['SCHEDULE_ARR'] = df['SCHEDULE_ARR'].apply(get_time_in_min)\n",
    "df['SCHEDULE_ARR'] = df['SCHEDULE_ARR'] - df['ARR_DELAY']\n",
    "df['SCHEDULE_ARR'] = df['SCHEDULE_ARR'].apply(check_for_negative)\n",
    "df['SCHEDULE_ARR'] = df['SCHEDULE_ARR'].apply(get_hour_from_min)"
   ]
  },
  {
   "cell_type": "code",
   "execution_count": 1651,
   "metadata": {},
   "outputs": [],
   "source": [
    "df5['SCHEDULE_ARR']  = df5['ARR_TIME'].astype('int32')\n",
    "df5['SCHEDULE_ARR']  = df5['SCHEDULE_ARR'].astype(str)\n",
    "df5['SCHEDULE_ARR'] = df5['SCHEDULE_ARR'].apply(get_time_in_min)\n",
    "df5['SCHEDULE_ARR'] = df5['SCHEDULE_ARR'] - df5['ARR_DELAY']\n",
    "df5['SCHEDULE_ARR'] = df5['SCHEDULE_ARR'].apply(check_for_negative)\n",
    "df5['SCHEDULE_ARR'] = df5['SCHEDULE_ARR'].apply(get_hour_from_min)"
   ]
  },
  {
   "cell_type": "code",
   "execution_count": 1652,
   "metadata": {},
   "outputs": [],
   "source": [
    "df['ORIGIN'] = df['ORIGIN'].apply(get_airport_id)\n",
    "df['DEST'] = df['DEST'].apply(get_airport_id)\n",
    "df['CARRIER'] = df['CARRIER'].apply(get_airline_carrier_code)"
   ]
  },
  {
   "cell_type": "code",
   "execution_count": 1653,
   "metadata": {},
   "outputs": [],
   "source": [
    "#df5 = df5.drop(df5[df5.ORIGIN == 'TOL'].index)\n",
    "df5['ORIGIN'] = df5['ORIGIN'].apply(get_airport_id)\n",
    "df5['DEST'] = df5['DEST'].apply(get_airport_id)\n",
    "df5['CARRIER'] = df5['CARRIER'].apply(get_airline_carrier_code)"
   ]
  },
  {
   "cell_type": "code",
   "execution_count": 1654,
   "metadata": {},
   "outputs": [
    {
     "data": {
      "text/html": [
       "<div>\n",
       "<style scoped>\n",
       "    .dataframe tbody tr th:only-of-type {\n",
       "        vertical-align: middle;\n",
       "    }\n",
       "\n",
       "    .dataframe tbody tr th {\n",
       "        vertical-align: top;\n",
       "    }\n",
       "\n",
       "    .dataframe thead th {\n",
       "        text-align: right;\n",
       "    }\n",
       "</style>\n",
       "<table border=\"1\" class=\"dataframe\">\n",
       "  <thead>\n",
       "    <tr style=\"text-align: right;\">\n",
       "      <th></th>\n",
       "      <th>YEAR</th>\n",
       "      <th>MONTH</th>\n",
       "      <th>DAY_OF_MONTH</th>\n",
       "      <th>FL_DATE</th>\n",
       "      <th>CARRIER</th>\n",
       "      <th>FL_NUM</th>\n",
       "      <th>ORIGIN</th>\n",
       "      <th>ORIGIN_CITY_NAME</th>\n",
       "      <th>ORIGIN_STATE_NM</th>\n",
       "      <th>DEST</th>\n",
       "      <th>...</th>\n",
       "      <th>DISTANCE</th>\n",
       "      <th>CARRIER_DELAY</th>\n",
       "      <th>WEATHER_DELAY</th>\n",
       "      <th>NAS_DELAY</th>\n",
       "      <th>SECURITY_DELAY</th>\n",
       "      <th>LATE_AIRCRAFT_DELAY</th>\n",
       "      <th>CARRIER_NAME</th>\n",
       "      <th>DAY_OF_WEEK</th>\n",
       "      <th>SCHEDULE_DEP</th>\n",
       "      <th>SCHEDULE_ARR</th>\n",
       "    </tr>\n",
       "  </thead>\n",
       "  <tbody>\n",
       "  </tbody>\n",
       "</table>\n",
       "<p>0 rows × 31 columns</p>\n",
       "</div>"
      ],
      "text/plain": [
       "Empty DataFrame\n",
       "Columns: [YEAR, MONTH, DAY_OF_MONTH, FL_DATE, CARRIER, FL_NUM, ORIGIN, ORIGIN_CITY_NAME, ORIGIN_STATE_NM, DEST, DEST_CITY_NAME, DEST_STATE_NM, DEP_TIME, DEP_DELAY, ARR_TIME, ARR_DELAY, CANCELLED, CANCELLATION_CODE, ACTUAL_ELAPSED_TIME, AIR_TIME, FLIGHTS, DISTANCE, CARRIER_DELAY, WEATHER_DELAY, NAS_DELAY, SECURITY_DELAY, LATE_AIRCRAFT_DELAY, CARRIER_NAME, DAY_OF_WEEK, SCHEDULE_DEP, SCHEDULE_ARR]\n",
       "Index: []\n",
       "\n",
       "[0 rows x 31 columns]"
      ]
     },
     "execution_count": 1654,
     "metadata": {},
     "output_type": "execute_result"
    }
   ],
   "source": [
    "df5.loc[df5['SCHEDULE_DEP']<0]\n",
    "df5.loc[df5['SCHEDULE_ARR']<0]"
   ]
  },
  {
   "cell_type": "code",
   "execution_count": null,
   "metadata": {},
   "outputs": [],
   "source": []
  },
  {
   "cell_type": "code",
   "execution_count": 1655,
   "metadata": {},
   "outputs": [],
   "source": [
    "scalingDF = df[['DISTANCE', 'WEATHER_DELAY']].astype('float') # Numerical features\n",
    "categDF = df[['MONTH', 'DAY_OF_MONTH', 'ORIGIN', \n",
    "                    'DEST', 'SCHEDULE_DEP', \n",
    "                    'CARRIER', 'DAY_OF_WEEK']]\n",
    "\n",
    "testscalingDF = df5[['DISTANCE', 'WEATHER_DELAY']].astype('float')\n",
    "testcategDF = df5[['MONTH', 'DAY_OF_MONTH', 'ORIGIN', \n",
    "                    'DEST', 'SCHEDULE_DEP', \n",
    "                    'CARRIER', 'DAY_OF_WEEK']]\n",
    "\n"
   ]
  },
  {
   "cell_type": "code",
   "execution_count": 1656,
   "metadata": {},
   "outputs": [],
   "source": [
    "categDF = sparse.csr_matrix(categDF)\n",
    "testcategDF = sparse.csr_matrix(testcategDF)"
   ]
  },
  {
   "cell_type": "code",
   "execution_count": 1657,
   "metadata": {},
   "outputs": [],
   "source": [
    "scalingDF_sparse = sparse.csr_matrix(scalingDF)\n",
    "testscalingDF_sparse = sparse.csr_matrix(testscalingDF)"
   ]
  },
  {
   "cell_type": "code",
   "execution_count": 1658,
   "metadata": {},
   "outputs": [],
   "source": [
    "x_train = sparse.hstack((scalingDF_sparse, categDF)).toarray()\n",
    "y_train = df['DEP_DELAY'].values\n",
    "\n",
    "#x_test = sparse.hstack((testscalingDF_sparse, testcategDF_encoded)).toarray()"
   ]
  },
  {
   "cell_type": "code",
   "execution_count": 1659,
   "metadata": {},
   "outputs": [],
   "source": [
    "x_test = sparse.hstack((testscalingDF_sparse, testcategDF)).toarray()"
   ]
  },
  {
   "cell_type": "code",
   "execution_count": 1660,
   "metadata": {},
   "outputs": [],
   "source": [
    "x_train_numerical = x_train[:, 0:2] # We only want the first two features which are the numerical ones."
   ]
  },
  {
   "cell_type": "code",
   "execution_count": 1661,
   "metadata": {},
   "outputs": [],
   "source": [
    "x_test_numerical = x_test[:,0:2]"
   ]
  },
  {
   "cell_type": "code",
   "execution_count": 1662,
   "metadata": {},
   "outputs": [],
   "source": [
    "scaler = MinMaxScaler() # create scaler object\n",
    "scaler.fit(x_train_numerical) # fit with the training data ONLY\n",
    "x_train_numerical = sparse.csr_matrix(scaler.transform(x_train_numerical)).toarray() # Transform the data and convert to sparse\n",
    "x_test_numerical = sparse.csr_matrix(scaler.transform(x_test_numerical)).toarray()"
   ]
  },
  {
   "cell_type": "code",
   "execution_count": 1663,
   "metadata": {},
   "outputs": [],
   "source": [
    "x_train[:, 0:2] = x_train_numerical"
   ]
  },
  {
   "cell_type": "code",
   "execution_count": 1664,
   "metadata": {},
   "outputs": [],
   "source": [
    "x_test[:, 0:2] = x_test_numerical"
   ]
  },
  {
   "cell_type": "code",
   "execution_count": 1665,
   "metadata": {},
   "outputs": [
    {
     "data": {
      "text/plain": [
       "(411611, 9)"
      ]
     },
     "execution_count": 1665,
     "metadata": {},
     "output_type": "execute_result"
    }
   ],
   "source": [
    "x_train.shape"
   ]
  },
  {
   "cell_type": "code",
   "execution_count": 1666,
   "metadata": {},
   "outputs": [
    {
     "data": {
      "text/plain": [
       "(236478, 9)"
      ]
     },
     "execution_count": 1666,
     "metadata": {},
     "output_type": "execute_result"
    }
   ],
   "source": [
    "x_test.shape"
   ]
  },
  {
   "cell_type": "code",
   "execution_count": 1667,
   "metadata": {},
   "outputs": [],
   "source": [
    "regr = linear_model.LinearRegression()\n",
    "regr.fit(x_train, y_train)\n",
    "y_pred = regr.predict(x_test)"
   ]
  },
  {
   "cell_type": "code",
   "execution_count": 1668,
   "metadata": {},
   "outputs": [],
   "source": [
    "y_test = df5['DEP_DELAY'].values"
   ]
  },
  {
   "cell_type": "code",
   "execution_count": 1669,
   "metadata": {},
   "outputs": [
    {
     "name": "stdout",
     "output_type": "stream",
     "text": [
      "43.89610842189824\n"
     ]
    }
   ],
   "source": [
    "print(mean_absolute_error(y_test, y_pred))"
   ]
  },
  {
   "cell_type": "code",
   "execution_count": 1670,
   "metadata": {},
   "outputs": [],
   "source": [
    "r = copy.deepcopy(df5)"
   ]
  },
  {
   "cell_type": "code",
   "execution_count": 1671,
   "metadata": {},
   "outputs": [],
   "source": [
    "df5['DEP_DELAY'] = y_pred"
   ]
  },
  {
   "cell_type": "code",
   "execution_count": 1672,
   "metadata": {},
   "outputs": [],
   "source": [
    "df5 = df5.groupby(['DAY_OF_MONTH'])['DEP_DELAY'].mean()"
   ]
  },
  {
   "cell_type": "code",
   "execution_count": 1673,
   "metadata": {},
   "outputs": [],
   "source": [
    "l = list(range(1, 32))"
   ]
  },
  {
   "cell_type": "code",
   "execution_count": 1674,
   "metadata": {},
   "outputs": [],
   "source": [
    "r = r.groupby(['DAY_OF_MONTH'])['DEP_DELAY'].mean()"
   ]
  },
  {
   "cell_type": "markdown",
   "metadata": {},
   "source": [
    "## For 4th quarter"
   ]
  },
  {
   "cell_type": "code",
   "execution_count": 1675,
   "metadata": {},
   "outputs": [
    {
     "data": {
      "image/png": "[encoded data removed]",
      "text/plain": [
       "<matplotlib.figure.Figure at 0x122c36f98>"
      ]
     },
     "metadata": {},
     "output_type": "display_data"
    }
   ],
   "source": [
    "plt.plot(l,df5.values, 'r')\n",
    "plt.plot(l, r.values, 'b')\n",
    "plt.legend(['Mean Predicted Departure delay', 'Mean Actual Departure delay'], loc ='upper right', prop={'size': 8\n",
    "                                                                                                        })\n",
    "plt.xlabel('Day of the month')\n",
    "plt.ylabel('Delay in minutes')\n",
    "plt.title('Predicted Vs Actual Mean Departure Delay for 4th Quarter')\n",
    "plt.show()"
   ]
  },
  {
   "cell_type": "markdown",
   "metadata": {},
   "source": [
    "## For 3rd quarter"
   ]
  },
  {
   "cell_type": "code",
   "execution_count": 1632,
   "metadata": {},
   "outputs": [
    {
     "data": {
      "image/png": "[encoded data removed]",
      "text/plain": [
       "<matplotlib.figure.Figure at 0x12b6d3b70>"
      ]
     },
     "metadata": {},
     "output_type": "display_data"
    }
   ],
   "source": [
    "plt.plot(l,df5.values, 'r')\n",
    "plt.plot(l, r.values, 'b')\n",
    "plt.legend(['Mean Predicted Departure delay', 'Mean Actual Departure delay'], loc ='upper right', prop={'size': 8\n",
    "                                                                                                        })\n",
    "plt.xlabel('Day of the month')\n",
    "plt.ylabel('Delay in minutes')\n",
    "plt.title('Predicted Vs Actual Mean Departure Delay for 3rd Quarter')\n",
    "plt.show()"
   ]
  },
  {
   "cell_type": "markdown",
   "metadata": {},
   "source": [
    "## For 2nd quarter"
   ]
  },
  {
   "cell_type": "code",
   "execution_count": 1586,
   "metadata": {},
   "outputs": [
    {
     "data": {
      "image/png": "[encoded data removed]",
      "text/plain": [
       "<matplotlib.figure.Figure at 0x12b615a58>"
      ]
     },
     "metadata": {},
     "output_type": "display_data"
    }
   ],
   "source": [
    "plt.plot(l,df5.values, 'r')\n",
    "plt.plot(l, r.values, 'b')\n",
    "plt.legend(['Mean Predicted Departure delay', 'Mean Actual Departure delay'], loc ='upper right', prop={'size': 8\n",
    "                                                                                                        })\n",
    "plt.xlabel('Day of the month')\n",
    "plt.ylabel('Delay in minutes')\n",
    "plt.title('Predicted Vs Actual Mean Departure Delay for 2nd Quarter')\n",
    "plt.show()"
   ]
  },
  {
   "cell_type": "markdown",
   "metadata": {},
   "source": [
    "## For 1st quarter"
   ]
  },
  {
   "cell_type": "code",
   "execution_count": 1541,
   "metadata": {},
   "outputs": [
    {
     "data": {
      "image/png": "[encoded data removed]",
      "text/plain": [
       "<matplotlib.figure.Figure at 0x122c1f0b8>"
      ]
     },
     "metadata": {},
     "output_type": "display_data"
    }
   ],
   "source": [
    "plt.plot(l,df5.values, 'r')\n",
    "plt.plot(l, r.values, 'b')\n",
    "plt.legend(['Mean Predicted Departure delay', 'Mean Actual Departure delay'], loc ='upper left', prop={'size': 8\n",
    "                                                                                                        })\n",
    "plt.xlabel('Day of the month')\n",
    "plt.ylabel('Delay in minutes')\n",
    "plt.title('Predicted Vs Actual Mean Departure Delay for 1st Quarter')\n",
    "plt.show()"
   ]
  },
  {
   "cell_type": "markdown",
   "metadata": {},
   "source": [
    "### Hypothesis 2: Predicting delays for 2018, based on 2011-2017 data (Time Series Analysis)"
   ]
  },
  {
   "cell_type": "code",
   "execution_count": 3,
   "metadata": {},
   "outputs": [],
   "source": [
    "def calculate_mape2(prediction_y, actual_y):\n",
    "    total =0\n",
    "    for i in range(len(actual_y)):\n",
    "        if actual_y[i] != 0:\n",
    "            total+= abs(prediction_y[i]-actual_y[i])/ actual_y[i]\n",
    "    return (total * (100/len(actual_y)))\n",
    "\n",
    "def ewma(t, alpha):\n",
    "    sum = 0\n",
    "    sum += alpha*total[t-1]\n",
    "    temp = 1-alpha\n",
    "    for i in range(t-1)[::-1]:\n",
    "        sum += temp*alpha*total[i]\n",
    "        temp*=temp\n",
    "    return sum"
   ]
  },
  {
   "cell_type": "code",
   "execution_count": 5,
   "metadata": {},
   "outputs": [],
   "source": [
    "data_jan = pd.read_csv('flight_delay_prediction/Data/2011.csv', delimiter=',')"
   ]
  },
  {
   "cell_type": "code",
   "execution_count": 7,
   "metadata": {},
   "outputs": [],
   "source": [
    "jan_2012_ny = data_jan.loc[(data_jan['ORIGIN_STATE_NM'] == 'New York')]\n",
    "jan_2012_ny = jan_2012_ny.drop(['Unnamed: 5', 'MONTH', 'YEAR'],axis = 1)\n",
    "jj = jan_2012_ny.loc[jan_2012_ny['WEATHER_DELAY']!=0]\n",
    "jj = jj.sort_values('DAY_OF_MONTH')\n",
    "j = jj.groupby(['DAY_OF_MONTH'])['WEATHER_DELAY'].mean()\n",
    "j.loc[3] = 0\n",
    "j.loc[14] = 0\n",
    "j.loc[16] = 0\n",
    "j.loc[20] = 0\n",
    "j.loc[31] = 0\n",
    "s = pd.DataFrame(j)\n",
    "s = s.reset_index()\n",
    "s = s.sort_values('DAY_OF_MONTH')\n",
    "s = s.reset_index()\n",
    "s = s.drop(['index'],axis = 1)\n",
    "\n",
    "d_2011 = s\n",
    "\n",
    "d_2011 = d_2011.rename(columns = {'WEATHER_DELAY':'WD_2011'})\n",
    "d_2011 = d_2011.drop(['DAY_OF_MONTH'],axis=1)\n",
    "data_jan = pd.read_csv('flight_delay_prediction/Data/2012.csv', delimiter=',')\n",
    "jan_2012_ny = data_jan.loc[(data_jan['ORIGIN_STATE_NM'] == 'New York')]\n",
    "jan_2012_ny = jan_2012_ny.drop(['Unnamed: 5', 'MONTH', 'YEAR'],axis = 1)\n",
    "jj = jan_2012_ny.loc[jan_2012_ny['WEATHER_DELAY']!=0]\n",
    "jj = jj.sort_values('DAY_OF_MONTH')\n",
    "j = jj.groupby(['DAY_OF_MONTH'])['WEATHER_DELAY'].mean()\n",
    "\n",
    "j.loc[1] = 0\n",
    "j.loc[6] = 0\n",
    "j.loc[7] = 0\n",
    "j.loc[9] = 0\n",
    "j.loc[11] = 0\n",
    "j.loc[24] = 0\n",
    "j.loc[25] = 0\n",
    "j.loc[28] = 0\n",
    "j.loc[31] = 0\n",
    "s = pd.DataFrame(j)\n",
    "s = s.reset_index()\n",
    "s = s.sort_values('DAY_OF_MONTH')\n",
    "s = s.reset_index()\n",
    "s = s.drop(['index'],axis = 1)\n",
    "d_2012 = s\n",
    "d_2012 = d_2012.rename(columns = {'WEATHER_DELAY':'WD_2012'})\n",
    "d_2012 = d_2012.drop(['DAY_OF_MONTH'],axis=1)"
   ]
  },
  {
   "cell_type": "code",
   "execution_count": 8,
   "metadata": {},
   "outputs": [],
   "source": [
    "d_2013 = pd.read_csv('flight_delay_prediction/Data/flight_delays_2013.csv', delimiter=',')"
   ]
  },
  {
   "cell_type": "code",
   "execution_count": 9,
   "metadata": {},
   "outputs": [],
   "source": [
    "jan_2013_ny = d_2013.loc[(d_2013['MONTH'] == 1) & (d_2013['ORIGIN_STATE_NM'] == 'New York')]"
   ]
  },
  {
   "cell_type": "code",
   "execution_count": 10,
   "metadata": {},
   "outputs": [],
   "source": [
    "jan_2013_ny = jan_2013_ny.drop(['CARRIER', 'FL_NUM',\n",
    "       'ORIGIN', 'ORIGIN_CITY_NAME', 'ORIGIN_STATE_NM', 'DEST',\n",
    "       'DEST_CITY_NAME', 'DEST_STATE_NM', 'DEP_TIME', 'DEP_DELAY', 'ARR_TIME',\n",
    "       'ARR_DELAY', 'CANCELLED', 'CANCELLATION_CODE', 'ACTUAL_ELAPSED_TIME',\n",
    "       'AIR_TIME', 'FLIGHTS', 'DISTANCE', 'CARRIER_DELAY', 'NAS_DELAY', \n",
    "       'SECURITY_DELAY', 'LATE_AIRCRAFT_DELAY', 'CARRIER_NAME'],axis = 1)"
   ]
  },
  {
   "cell_type": "code",
   "execution_count": 11,
   "metadata": {},
   "outputs": [],
   "source": [
    "jj = jan_2013_ny.loc[jan_2013_ny['WEATHER_DELAY']!=0]"
   ]
  },
  {
   "cell_type": "code",
   "execution_count": 12,
   "metadata": {},
   "outputs": [],
   "source": [
    "jj = jj.sort_values('DAY_OF_MONTH')"
   ]
  },
  {
   "cell_type": "code",
   "execution_count": 14,
   "metadata": {},
   "outputs": [],
   "source": [
    "j = jj.groupby(['DAY_OF_MONTH'])['WEATHER_DELAY'].mean()\n",
    "j.loc[7] = 0\n",
    "j.loc[9] = 0\n",
    "j.loc[10] = 0\n",
    "j.loc[11] = 0\n",
    "j.loc[15] = 0\n",
    "s = pd.DataFrame(j)\n",
    "s = s.reset_index()\n",
    "d_2013 = s\n",
    "\n",
    "d_2014 = pd.read_csv('flight_delay_prediction/Data/flight_delays_2014.csv', delimiter=',')\n",
    "j.loc[13] = 0\n",
    "j.loc[14] = 0\n",
    "j.loc[17] = 0\n",
    "s = pd.DataFrame(j)\n",
    "s = s.reset_index()\n",
    "s = s.sort_values('DAY_OF_MONTH')\n",
    "s = s.reset_index()\n",
    "s = s.drop(['index'],axis = 1)\n",
    "d_2014 = s"
   ]
  },
  {
   "cell_type": "code",
   "execution_count": 18,
   "metadata": {},
   "outputs": [],
   "source": [
    "d_2015 = pd.read_csv('flight_delay_prediction/Data/flight_delays_2015.csv', delimiter=',')\n",
    "jan_2015_ny = d_2015.loc[(d_2015['MONTH'] == 1) & (d_2015['ORIGIN_STATE_NM'] == 'New York')]\n",
    "jan_2015_ny = jan_2015_ny.drop(['FL_DATE', 'CARRIER', 'FL_NUM',\n",
    "       'ORIGIN', 'ORIGIN_CITY_NAME', 'ORIGIN_STATE_NM', 'DEST',\n",
    "       'DEST_CITY_NAME', 'DEST_STATE_NM', 'DEP_TIME', 'DEP_DELAY', 'ARR_TIME',\n",
    "       'ARR_DELAY', 'CANCELLED', 'CANCELLATION_CODE', 'ACTUAL_ELAPSED_TIME',\n",
    "       'AIR_TIME', 'FLIGHTS', 'DISTANCE', 'CARRIER_DELAY', 'NAS_DELAY', \n",
    "       'SECURITY_DELAY', 'LATE_AIRCRAFT_DELAY', 'CARRIER_NAME'],axis = 1)\n",
    "jj = jan_2015_ny.loc[jan_2015_ny['WEATHER_DELAY']!=0]\n",
    "jj = jj.sort_values('DAY_OF_MONTH')\n",
    "j = jj.groupby(['DAY_OF_MONTH'])['WEATHER_DELAY'].mean()\n",
    "\n",
    "j.loc[11] = 0\n",
    "j.loc[16] = 0\n",
    "j.loc[17] = 0\n",
    "j.loc[20] = 0\n",
    "j.loc[25] = 0"
   ]
  },
  {
   "cell_type": "code",
   "execution_count": 19,
   "metadata": {},
   "outputs": [],
   "source": [
    "s = pd.DataFrame(j)\n",
    "s = s.reset_index()\n",
    "s = s.sort_values('DAY_OF_MONTH')\n",
    "s = s.reset_index()\n",
    "s = s.drop(['index'],axis = 1)\n",
    "\n",
    "d_2015 = s\n",
    "\n",
    "d_2016 = pd.read_csv('flight_delay_prediction/Data/flight_delays_2016.csv', delimiter=',')\n",
    "jan_2016_ny = d_2016.loc[(d_2016['MONTH'] == 1) & (d_2016['ORIGIN_STATE_NM'] == 'New York')]\n",
    "jan_2016_ny = jan_2016_ny.drop(['FL_DATE', 'CARRIER', 'FL_NUM',\n",
    "       'ORIGIN', 'ORIGIN_CITY_NAME', 'ORIGIN_STATE_NM', 'DEST',\n",
    "       'DEST_CITY_NAME', 'DEST_STATE_NM', 'DEP_TIME', 'DEP_DELAY', 'ARR_TIME',\n",
    "       'ARR_DELAY', 'CANCELLED', 'CANCELLATION_CODE', 'ACTUAL_ELAPSED_TIME',\n",
    "       'AIR_TIME', 'DISTANCE', 'CARRIER_DELAY', 'NAS_DELAY', \n",
    "       'SECURITY_DELAY', 'LATE_AIRCRAFT_DELAY', 'CARRIER_NAME'],axis = 1)\n",
    "jj = jan_2016_ny.loc[jan_2016_ny['WEATHER_DELAY']!=0]\n",
    "jj = jj.sort_values('DAY_OF_MONTH')\n",
    "j = jj.groupby(['DAY_OF_MONTH'])['WEATHER_DELAY'].mean()\n",
    "\n",
    "j.loc[1] = 0\n",
    "j.loc[4] = 0\n",
    "j.loc[7] = 0\n",
    "j.loc[9] = 0\n",
    "j.loc[12] = 0\n",
    "j.loc[14] = 0\n",
    "j.loc[15] = 0\n",
    "j.loc[20] = 0\n",
    "j.loc[26] = 0\n",
    "j.loc[27] = 0\n",
    "j.loc[30] = 0\n",
    "j.loc[31] = 0\n",
    "\n",
    "s = pd.DataFrame(j)\n",
    "s = s.reset_index()\n",
    "s = s.sort_values('DAY_OF_MONTH')\n",
    "s = s.reset_index()\n",
    "s = s.drop(['index'],axis = 1)\n",
    "\n",
    "d_2016 = s"
   ]
  },
  {
   "cell_type": "code",
   "execution_count": 20,
   "metadata": {},
   "outputs": [
    {
     "data": {
      "text/plain": [
       "217"
      ]
     },
     "execution_count": 20,
     "metadata": {},
     "output_type": "execute_result"
    }
   ],
   "source": [
    "d_2017 = pd.read_csv('flight_delay_prediction/Data/flight_delays_2017.csv', delimiter=',')\n",
    "jan_2017_ny = d_2017.loc[(d_2017['MONTH'] == 1) & (d_2017['ORIGIN_STATE_NM'] == 'New York')]\n",
    "jan_2017_ny = jan_2017_ny.drop(['FL_DATE', 'CARRIER', 'FL_NUM',\n",
    "       'ORIGIN', 'ORIGIN_CITY_NAME', 'ORIGIN_STATE_NM', 'DEST',\n",
    "       'DEST_CITY_NAME', 'DEST_STATE_NM', 'DEP_TIME', 'DEP_DELAY', 'ARR_TIME',\n",
    "       'ARR_DELAY', 'CANCELLED', 'CANCELLATION_CODE', 'ACTUAL_ELAPSED_TIME',\n",
    "       'AIR_TIME', 'FLIGHTS', 'DISTANCE', 'CARRIER_DELAY', 'NAS_DELAY', \n",
    "       'SECURITY_DELAY', 'LATE_AIRCRAFT_DELAY', 'CARRIER_NAME'],axis = 1)\n",
    "jj = jan_2017_ny.loc[jan_2017_ny['WEATHER_DELAY']!=0]\n",
    "jj = jj.sort_values('DAY_OF_MONTH')\n",
    "j = jj.groupby(['DAY_OF_MONTH'])['WEATHER_DELAY'].mean()\n",
    "j.loc[19] = 0\n",
    "j.loc[26] = 0\n",
    "j.loc[28] = 0\n",
    "j.loc[29] = 0\n",
    "\n",
    "s = pd.DataFrame(j)\n",
    "s = s.reset_index()\n",
    "s = s.sort_values('DAY_OF_MONTH')\n",
    "s = s.reset_index()\n",
    "s = s.drop(['index'],axis = 1)\n",
    "\n",
    "d_2017 = s\n",
    "\n",
    "d_2013 = d_2013.rename(columns = {'WEATHER_DELAY':'WD_2013'})\n",
    "d_2014 = d_2014.rename(columns = {'WEATHER_DELAY':'WD_2014'})\n",
    "d_2015 = d_2015.rename(columns = {'WEATHER_DELAY':'WD_2015'})\n",
    "d_2016 = d_2016.rename(columns = {'WEATHER_DELAY':'WD_2016'})\n",
    "d_2017 = d_2017.rename(columns = {'WEATHER_DELAY':'WD_2017'})\n",
    "\n",
    "d_2013 = d_2013.drop(['DAY_OF_MONTH'],axis=1)\n",
    "d_2014 = d_2014.drop(['DAY_OF_MONTH'],axis=1)\n",
    "d_2015 = d_2015.drop(['DAY_OF_MONTH'],axis=1)\n",
    "d_2016 = d_2016.drop(['DAY_OF_MONTH'],axis=1)\n",
    "d_2017 = d_2017.drop(['DAY_OF_MONTH'],axis=1)\n",
    "\n",
    "result = pd.concat([d_2011, d_2012, d_2013, d_2014, d_2015, d_2016,d_2017], axis = 1)\n",
    "\n",
    "d11 = list(result['WD_2011'])\n",
    "d12 = list(result['WD_2012'])\n",
    "d13 = list(result['WD_2013'])\n",
    "d14 = list(result['WD_2014'])\n",
    "d15 = list(result['WD_2015'])\n",
    "d16 = list(result['WD_2016'])\n",
    "d17 = list(result['WD_2017'])\n",
    "\n",
    "total = d11+d12+d13+d14+d15+d16+d17\n",
    "len(total)\n",
    "\n"
   ]
  },
  {
   "cell_type": "code",
   "execution_count": 22,
   "metadata": {},
   "outputs": [
    {
     "name": "stdout",
     "output_type": "stream",
     "text": [
      "Average Error : 14.419800596601862\n"
     ]
    },
    {
     "data": {
      "image/png": "[encoded data removed]",
      "text/plain": [
       "<matplotlib.figure.Figure at 0x1a2adbb940>"
      ]
     },
     "metadata": {},
     "output_type": "display_data"
    }
   ],
   "source": [
    "list_ans = []\n",
    "err = 0\n",
    "for i in range(0,31):\n",
    "    result = ewma(186+i,0.8)\n",
    "    list_ans.append(result)\n",
    "per_error = calculate_mape2(list_ans,total[185:216])\n",
    "print(\"Average Error :\",per_error)\n",
    "plt.plot(total[185:216],color = \"blue\", label=\"Actual 2017 Delays\")\n",
    "plt.plot(list_ans,color = \"green\",label=\"Predicted 2017 Delays\")\n",
    "plt.legend(loc='upper left')\n",
    "plt.xlabel(\"Day of the month\")\n",
    "plt.ylabel(\"Delay\")\n",
    "plt.show()"
   ]
  }
 ],
 "metadata": {
  "kernelspec": {
   "display_name": "Python [default]",
   "language": "python",
   "name": "python3"
  },
  "language_info": {
   "codemirror_mode": {
    "name": "ipython",
    "version": 3
   },
   "file_extension": ".py",
   "mimetype": "text/x-python",
   "name": "python",
   "nbconvert_exporter": "python",
   "pygments_lexer": "ipython3",
   "version": "3.6.4"
  }
 },
 "nbformat": 4,
 "nbformat_minor": 2
}
